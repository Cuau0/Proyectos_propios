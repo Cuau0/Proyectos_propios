{
 "cells": [
  {
   "cell_type": "markdown",
   "metadata": {},
   "source": [
    "# Modelo simple\n",
    "\n",
    "# Modelo de Machine Learning para clasificar si una persona puede tener COVID-19 con variables de comorbilidades "
   ]
  },
  {
   "cell_type": "code",
   "execution_count": 1,
   "metadata": {},
   "outputs": [],
   "source": [
    "import pandas as pd\n",
    "import numpy as np\n",
    "import matplotlib.pyplot as plt\n",
    "import seaborn as sns\n",
    "import missingno as msno"
   ]
  },
  {
   "cell_type": "markdown",
   "metadata": {},
   "source": [
    "# Importando el Data Frame"
   ]
  },
  {
   "cell_type": "code",
   "execution_count": 2,
   "metadata": {
    "scrolled": true
   },
   "outputs": [
    {
     "data": {
      "text/html": [
       "<div>\n",
       "<style scoped>\n",
       "    .dataframe tbody tr th:only-of-type {\n",
       "        vertical-align: middle;\n",
       "    }\n",
       "\n",
       "    .dataframe tbody tr th {\n",
       "        vertical-align: top;\n",
       "    }\n",
       "\n",
       "    .dataframe thead th {\n",
       "        text-align: right;\n",
       "    }\n",
       "</style>\n",
       "<table border=\"1\" class=\"dataframe\">\n",
       "  <thead>\n",
       "    <tr style=\"text-align: right;\">\n",
       "      <th></th>\n",
       "      <th>ORIGEN</th>\n",
       "      <th>SECTOR</th>\n",
       "      <th>ENTIDAD_UM</th>\n",
       "      <th>SEXO</th>\n",
       "      <th>ENTIDAD_NAC</th>\n",
       "      <th>TIPO_PACIENTE</th>\n",
       "      <th>FECHA_INGRESO</th>\n",
       "      <th>FECHA_SINTOMAS</th>\n",
       "      <th>FECHA_DEF</th>\n",
       "      <th>INTUBADO</th>\n",
       "      <th>...</th>\n",
       "      <th>TABAQUISMO</th>\n",
       "      <th>OTRO_CASO</th>\n",
       "      <th>TOMA_MUESTRA_LAB</th>\n",
       "      <th>RESULTADO_LAB</th>\n",
       "      <th>TOMA_MUESTRA_ANTIGENO</th>\n",
       "      <th>RESULTADO_ANTIGENO</th>\n",
       "      <th>CLASIFICACION_FINAL</th>\n",
       "      <th>MIGRANTE</th>\n",
       "      <th>PAIS_NACIONALIDAD</th>\n",
       "      <th>UCI</th>\n",
       "    </tr>\n",
       "  </thead>\n",
       "  <tbody>\n",
       "    <tr>\n",
       "      <th>0</th>\n",
       "      <td>2</td>\n",
       "      <td>12</td>\n",
       "      <td>9</td>\n",
       "      <td>2</td>\n",
       "      <td>9</td>\n",
       "      <td>1</td>\n",
       "      <td>2020-03-11</td>\n",
       "      <td>2020-03-11</td>\n",
       "      <td>9999-99-99</td>\n",
       "      <td>97</td>\n",
       "      <td>...</td>\n",
       "      <td>2</td>\n",
       "      <td>1</td>\n",
       "      <td>1</td>\n",
       "      <td>1</td>\n",
       "      <td>2</td>\n",
       "      <td>97</td>\n",
       "      <td>3</td>\n",
       "      <td>99</td>\n",
       "      <td>MÃ©xico</td>\n",
       "      <td>97</td>\n",
       "    </tr>\n",
       "    <tr>\n",
       "      <th>1</th>\n",
       "      <td>1</td>\n",
       "      <td>12</td>\n",
       "      <td>17</td>\n",
       "      <td>2</td>\n",
       "      <td>17</td>\n",
       "      <td>2</td>\n",
       "      <td>2020-03-28</td>\n",
       "      <td>2020-03-24</td>\n",
       "      <td>2020-04-10</td>\n",
       "      <td>2</td>\n",
       "      <td>...</td>\n",
       "      <td>2</td>\n",
       "      <td>2</td>\n",
       "      <td>1</td>\n",
       "      <td>1</td>\n",
       "      <td>2</td>\n",
       "      <td>97</td>\n",
       "      <td>3</td>\n",
       "      <td>99</td>\n",
       "      <td>MÃ©xico</td>\n",
       "      <td>2</td>\n",
       "    </tr>\n",
       "    <tr>\n",
       "      <th>2</th>\n",
       "      <td>1</td>\n",
       "      <td>4</td>\n",
       "      <td>23</td>\n",
       "      <td>2</td>\n",
       "      <td>23</td>\n",
       "      <td>1</td>\n",
       "      <td>2020-03-30</td>\n",
       "      <td>2020-03-28</td>\n",
       "      <td>9999-99-99</td>\n",
       "      <td>97</td>\n",
       "      <td>...</td>\n",
       "      <td>2</td>\n",
       "      <td>1</td>\n",
       "      <td>1</td>\n",
       "      <td>1</td>\n",
       "      <td>2</td>\n",
       "      <td>97</td>\n",
       "      <td>3</td>\n",
       "      <td>99</td>\n",
       "      <td>MÃ©xico</td>\n",
       "      <td>97</td>\n",
       "    </tr>\n",
       "    <tr>\n",
       "      <th>3</th>\n",
       "      <td>1</td>\n",
       "      <td>9</td>\n",
       "      <td>9</td>\n",
       "      <td>2</td>\n",
       "      <td>9</td>\n",
       "      <td>2</td>\n",
       "      <td>2020-03-28</td>\n",
       "      <td>2020-03-25</td>\n",
       "      <td>9999-99-99</td>\n",
       "      <td>2</td>\n",
       "      <td>...</td>\n",
       "      <td>2</td>\n",
       "      <td>1</td>\n",
       "      <td>1</td>\n",
       "      <td>1</td>\n",
       "      <td>2</td>\n",
       "      <td>97</td>\n",
       "      <td>3</td>\n",
       "      <td>99</td>\n",
       "      <td>MÃ©xico</td>\n",
       "      <td>2</td>\n",
       "    </tr>\n",
       "    <tr>\n",
       "      <th>4</th>\n",
       "      <td>1</td>\n",
       "      <td>12</td>\n",
       "      <td>29</td>\n",
       "      <td>2</td>\n",
       "      <td>29</td>\n",
       "      <td>2</td>\n",
       "      <td>2020-04-01</td>\n",
       "      <td>2020-03-28</td>\n",
       "      <td>9999-99-99</td>\n",
       "      <td>2</td>\n",
       "      <td>...</td>\n",
       "      <td>2</td>\n",
       "      <td>2</td>\n",
       "      <td>1</td>\n",
       "      <td>1</td>\n",
       "      <td>2</td>\n",
       "      <td>97</td>\n",
       "      <td>3</td>\n",
       "      <td>99</td>\n",
       "      <td>MÃ©xico</td>\n",
       "      <td>2</td>\n",
       "    </tr>\n",
       "  </tbody>\n",
       "</table>\n",
       "<p>5 rows × 34 columns</p>\n",
       "</div>"
      ],
      "text/plain": [
       "   ORIGEN  SECTOR  ENTIDAD_UM  SEXO  ENTIDAD_NAC  TIPO_PACIENTE FECHA_INGRESO  \\\n",
       "0       2      12           9     2            9              1    2020-03-11   \n",
       "1       1      12          17     2           17              2    2020-03-28   \n",
       "2       1       4          23     2           23              1    2020-03-30   \n",
       "3       1       9           9     2            9              2    2020-03-28   \n",
       "4       1      12          29     2           29              2    2020-04-01   \n",
       "\n",
       "  FECHA_SINTOMAS   FECHA_DEF  INTUBADO  ...  TABAQUISMO  OTRO_CASO  \\\n",
       "0     2020-03-11  9999-99-99        97  ...           2          1   \n",
       "1     2020-03-24  2020-04-10         2  ...           2          2   \n",
       "2     2020-03-28  9999-99-99        97  ...           2          1   \n",
       "3     2020-03-25  9999-99-99         2  ...           2          1   \n",
       "4     2020-03-28  9999-99-99         2  ...           2          2   \n",
       "\n",
       "   TOMA_MUESTRA_LAB  RESULTADO_LAB  TOMA_MUESTRA_ANTIGENO  RESULTADO_ANTIGENO  \\\n",
       "0                 1              1                      2                  97   \n",
       "1                 1              1                      2                  97   \n",
       "2                 1              1                      2                  97   \n",
       "3                 1              1                      2                  97   \n",
       "4                 1              1                      2                  97   \n",
       "\n",
       "   CLASIFICACION_FINAL  MIGRANTE  PAIS_NACIONALIDAD  UCI  \n",
       "0                    3        99            MÃ©xico   97  \n",
       "1                    3        99            MÃ©xico    2  \n",
       "2                    3        99            MÃ©xico   97  \n",
       "3                    3        99            MÃ©xico    2  \n",
       "4                    3        99            MÃ©xico    2  \n",
       "\n",
       "[5 rows x 34 columns]"
      ]
     },
     "execution_count": 2,
     "metadata": {},
     "output_type": "execute_result"
    }
   ],
   "source": [
    "df = pd.read_csv(\"210127COVID19MEXICO.csv\", \n",
    "                 usecols = [2,3,4,5,6,9,10,11,12,13,14,15,16,17,19,20,21,22,23,24,\n",
    "                                                       25,26,27,28,29,30,31,32,33,34,35,36,37,39], \n",
    "                 encoding='latin1',\n",
    "                 dtype = {\"FECHA_SINTOMAS\":\"str\"})\n",
    "df.head()"
   ]
  },
  {
   "cell_type": "markdown",
   "metadata": {},
   "source": [
    "# Limpiza de datos"
   ]
  },
  {
   "cell_type": "markdown",
   "metadata": {},
   "source": [
    "### Se cambian los tipode de las variables de objeto a fecha"
   ]
  },
  {
   "cell_type": "markdown",
   "metadata": {},
   "source": [
    "Existen variables que tienen el Dtype no correspondiente "
   ]
  },
  {
   "cell_type": "code",
   "execution_count": 3,
   "metadata": {},
   "outputs": [],
   "source": [
    "df[\"FECHA_INGRESO\"] = df[\"FECHA_INGRESO\"].apply(lambda x: x.replace('-',''))\n",
    "df[\"FECHA_DEF\"] = df[\"FECHA_DEF\"].apply(lambda x: x.replace('-',''))\n",
    "df[\"FECHA_SINTOMAS\"] = df[\"FECHA_SINTOMAS\"].apply(lambda x: x.replace('-',''))"
   ]
  },
  {
   "cell_type": "code",
   "execution_count": 4,
   "metadata": {},
   "outputs": [],
   "source": [
    "df[\"FECHA_INGRESO\"] = pd.to_datetime(df[\"FECHA_INGRESO\"], format = '%Y%m%d')\n",
    "df[\"FECHA_SINTOMAS\"] = pd.to_datetime(df[\"FECHA_SINTOMAS\"], format = '%Y%m%d')"
   ]
  },
  {
   "cell_type": "code",
   "execution_count": 5,
   "metadata": {},
   "outputs": [],
   "source": [
    "df = df.drop([\"ENTIDAD_UM\",\"ENTIDAD_NAC\", \"FECHA_INGRESO\",\"FECHA_SINTOMAS\",\"INDIGENA\",\"TOMA_MUESTRA_LAB\",\n",
    "        \"RESULTADO_LAB\",\"TOMA_MUESTRA_ANTIGENO\",\"RESULTADO_ANTIGENO\",\"MIGRANTE\",\"PAIS_NACIONALIDAD\",\"OTRO_CASO\"], axis = 1)"
   ]
  },
  {
   "cell_type": "markdown",
   "metadata": {},
   "source": [
    "##### Eliminacion de las primeras variables\n",
    "1.- Se eliminan todas las variables respecto a fechas ya que supondremos observaciones independientes al tiempo \\\n",
    "2.- Se eliminan la entidad médica ya que no nos interesa la proveniencia de la muestra solo de los resultados \\\n",
    "3.- Se eliminan cualquier entidad racial, nos enfocamos en todos los pacientes de origen Mexicano \\\n",
    "4.- Se eliminan la entidad donde se tomó la muestra para cualquier prueba, por ahora solo nos interesan los resultados \\\n",
    "5.- Se eliminan los paises de origen ya que existe una variable que es dependiente a ellas y que sirve más para el estudio "
   ]
  },
  {
   "cell_type": "markdown",
   "metadata": {},
   "source": [
    "## Verificar tipos de datos"
   ]
  },
  {
   "cell_type": "code",
   "execution_count": 6,
   "metadata": {},
   "outputs": [
    {
     "name": "stdout",
     "output_type": "stream",
     "text": [
      "<class 'pandas.core.frame.DataFrame'>\n",
      "RangeIndex: 4544322 entries, 0 to 4544321\n",
      "Data columns (total 22 columns):\n",
      " #   Column               Dtype \n",
      "---  ------               ----- \n",
      " 0   ORIGEN               int64 \n",
      " 1   SECTOR               int64 \n",
      " 2   SEXO                 int64 \n",
      " 3   TIPO_PACIENTE        int64 \n",
      " 4   FECHA_DEF            object\n",
      " 5   INTUBADO             int64 \n",
      " 6   NEUMONIA             int64 \n",
      " 7   EDAD                 int64 \n",
      " 8   NACIONALIDAD         int64 \n",
      " 9   EMBARAZO             int64 \n",
      " 10  DIABETES             int64 \n",
      " 11  EPOC                 int64 \n",
      " 12  ASMA                 int64 \n",
      " 13  INMUSUPR             int64 \n",
      " 14  HIPERTENSION         int64 \n",
      " 15  OTRA_COM             int64 \n",
      " 16  CARDIOVASCULAR       int64 \n",
      " 17  OBESIDAD             int64 \n",
      " 18  RENAL_CRONICA        int64 \n",
      " 19  TABAQUISMO           int64 \n",
      " 20  CLASIFICACION_FINAL  int64 \n",
      " 21  UCI                  int64 \n",
      "dtypes: int64(21), object(1)\n",
      "memory usage: 762.7+ MB\n"
     ]
    }
   ],
   "source": [
    "df.info()"
   ]
  },
  {
   "cell_type": "markdown",
   "metadata": {},
   "source": [
    "## Creacion de nuevas variables"
   ]
  },
  {
   "cell_type": "markdown",
   "metadata": {},
   "source": [
    "### Para la variable objetivo"
   ]
  },
  {
   "cell_type": "code",
   "execution_count": 7,
   "metadata": {},
   "outputs": [
    {
     "data": {
      "image/png": "[encoded data removed]",
      "text/plain": [
       "<Figure size 432x288 with 1 Axes>"
      ]
     },
     "metadata": {
      "needs_background": "light"
     },
     "output_type": "display_data"
    }
   ],
   "source": [
    "sns.distplot(df[\"CLASIFICACION_FINAL\"], kde = False);"
   ]
  },
  {
   "cell_type": "markdown",
   "metadata": {},
   "source": [
    "Eliminar los registros donde los pacientes aun son sospechosos ya que nos generan información para la clasificación de los pacientes que tuvieron o no covid. \\\n",
    "Los registros donde se tomaron muestra de laboratorio pero fueron invalidos o no se procesó tampoco nos interesan para este caso de estudio"
   ]
  },
  {
   "cell_type": "code",
   "execution_count": 8,
   "metadata": {},
   "outputs": [],
   "source": [
    "df = df.drop(df[df[\"CLASIFICACION_FINAL\"].isin([4,5,6])].index, axis = 0)"
   ]
  },
  {
   "cell_type": "markdown",
   "metadata": {},
   "source": [
    "Ya que necesitamos una variable objetivo donde catalogué a una persona con COVID o no, generamos una categoria nueva con base a la CLASIFICACION_FINAL donde muestra los tipos de resultados pero especificado por casos. Al final tendremos una nueva clasficación: \n",
    "* 1,2 y 3 se catalogan como paciente COVID\n",
    "* 7 se catalogan como paciente NO COVID"
   ]
  },
  {
   "cell_type": "markdown",
   "metadata": {},
   "source": [
    "Con esta información se crea la variable COVID"
   ]
  },
  {
   "cell_type": "code",
   "execution_count": 9,
   "metadata": {},
   "outputs": [],
   "source": [
    "COV = []\n",
    "for y in df[\"CLASIFICACION_FINAL\"]:\n",
    "    if (y == 1) or (y == 2) or (y == 3):\n",
    "        k = 1\n",
    "    else:\n",
    "        k = 0\n",
    "    COV.append(k)"
   ]
  },
  {
   "cell_type": "code",
   "execution_count": 10,
   "metadata": {},
   "outputs": [],
   "source": [
    "df[\"COVID\"] = COV"
   ]
  },
  {
   "cell_type": "markdown",
   "metadata": {},
   "source": [
    "##### Personas diagnosticadas con COVID"
   ]
  },
  {
   "cell_type": "code",
   "execution_count": 11,
   "metadata": {},
   "outputs": [
    {
     "data": {
      "text/html": [
       "<div>\n",
       "<style scoped>\n",
       "    .dataframe tbody tr th:only-of-type {\n",
       "        vertical-align: middle;\n",
       "    }\n",
       "\n",
       "    .dataframe tbody tr th {\n",
       "        vertical-align: top;\n",
       "    }\n",
       "\n",
       "    .dataframe thead th {\n",
       "        text-align: right;\n",
       "    }\n",
       "</style>\n",
       "<table border=\"1\" class=\"dataframe\">\n",
       "  <thead>\n",
       "    <tr style=\"text-align: right;\">\n",
       "      <th></th>\n",
       "      <th>COVID</th>\n",
       "    </tr>\n",
       "  </thead>\n",
       "  <tbody>\n",
       "    <tr>\n",
       "      <th>0</th>\n",
       "      <td>2305274</td>\n",
       "    </tr>\n",
       "    <tr>\n",
       "      <th>1</th>\n",
       "      <td>1806849</td>\n",
       "    </tr>\n",
       "  </tbody>\n",
       "</table>\n",
       "</div>"
      ],
      "text/plain": [
       "     COVID\n",
       "0  2305274\n",
       "1  1806849"
      ]
     },
     "execution_count": 11,
     "metadata": {},
     "output_type": "execute_result"
    }
   ],
   "source": [
    "pd.DataFrame(df[\"COVID\"].value_counts())"
   ]
  },
  {
   "cell_type": "markdown",
   "metadata": {},
   "source": [
    "### Para la variable defunciones"
   ]
  },
  {
   "cell_type": "markdown",
   "metadata": {},
   "source": [
    "Creamos una nueva variable que nos indique si el paciente falleció o no."
   ]
  },
  {
   "cell_type": "code",
   "execution_count": 12,
   "metadata": {},
   "outputs": [],
   "source": [
    "df[\"FECHA_DEF\"] = df[\"FECHA_DEF\"].astype(\"int\")"
   ]
  },
  {
   "cell_type": "code",
   "execution_count": 13,
   "metadata": {},
   "outputs": [],
   "source": [
    "DEF = []\n",
    "for x in df[\"FECHA_DEF\"]:\n",
    "    if x == 99999999:\n",
    "        j = 0\n",
    "    else:\n",
    "        j = 1\n",
    "    DEF.append(j)"
   ]
  },
  {
   "cell_type": "code",
   "execution_count": 14,
   "metadata": {},
   "outputs": [],
   "source": [
    "df[\"DEF\"] = DEF\n",
    "#df_copy = df_copy.drop([\"FECHA_DEF\"], axis = 1)"
   ]
  },
  {
   "cell_type": "markdown",
   "metadata": {},
   "source": [
    "### Para la variable nacionalidad"
   ]
  },
  {
   "cell_type": "markdown",
   "metadata": {},
   "source": [
    "Nos quedamos con los pacientes que sean de nacionalidad Mexicana "
   ]
  },
  {
   "cell_type": "code",
   "execution_count": 15,
   "metadata": {},
   "outputs": [],
   "source": [
    "df = df.drop(df[df[\"NACIONALIDAD\"] == 2].index, axis = 0)"
   ]
  },
  {
   "cell_type": "code",
   "execution_count": 16,
   "metadata": {},
   "outputs": [],
   "source": [
    "df = df.drop([\"FECHA_DEF\", \"CLASIFICACION_FINAL\"], axis = 1)"
   ]
  },
  {
   "cell_type": "markdown",
   "metadata": {},
   "source": [
    "# Entendimiento de los datos "
   ]
  },
  {
   "cell_type": "markdown",
   "metadata": {},
   "source": [
    "##### La distribucion de las edades de pacientes con COVID nos muestran que existe una mayor concentracion de población con edades de entre 25 y 50 años"
   ]
  },
  {
   "cell_type": "code",
   "execution_count": 17,
   "metadata": {},
   "outputs": [
    {
     "data": {
      "image/png": "[encoded data removed]",
      "text/plain": [
       "<Figure size 432x288 with 1 Axes>"
      ]
     },
     "metadata": {
      "needs_background": "light"
     },
     "output_type": "display_data"
    }
   ],
   "source": [
    "sns.distplot(df[\"EDAD\"][df[\"COVID\"] == 1])\n",
    "plt.title(\"Distribucion Edades de casos positivos\");"
   ]
  },
  {
   "cell_type": "markdown",
   "metadata": {},
   "source": [
    "###### La distribución de edades de personas que no tienen COVID nos muestra una baja de diagnositicos a partir de los 30 años. Esto quiere decir que a mayor edad es más probable que no te diagnostiquen con NO COVID. Y a menor edad es más probable que te diagnostiquen con NO COVID."
   ]
  },
  {
   "cell_type": "code",
   "execution_count": 18,
   "metadata": {},
   "outputs": [
    {
     "data": {
      "image/png": "[encoded data removed]",
      "text/plain": [
       "<Figure size 432x288 with 1 Axes>"
      ]
     },
     "metadata": {
      "needs_background": "light"
     },
     "output_type": "display_data"
    }
   ],
   "source": [
    "sns.distplot(df[\"EDAD\"][df[\"COVID\"] == 0])\n",
    "plt.title(\"Distribucion Edades de casos negativos\");"
   ]
  },
  {
   "cell_type": "markdown",
   "metadata": {},
   "source": [
    "##### La distribucion de edad de personas que NO tienen COVID pero se compara con las personas fallecidas. Es decir, nos muestran la proporción de personas que si fallecieron contras los que no han fallecido. Esto nos puede señalar que en caso de diagnostico NO COVID es poco probable  la defunción."
   ]
  },
  {
   "cell_type": "code",
   "execution_count": 19,
   "metadata": {},
   "outputs": [
    {
     "data": {
      "image/png": "[encoded data removed]",
      "text/plain": [
       "<Figure size 432x288 with 1 Axes>"
      ]
     },
     "metadata": {
      "needs_background": "light"
     },
     "output_type": "display_data"
    }
   ],
   "source": [
    "sns.distplot(df[\"EDAD\"][(df[\"COVID\"] == 0) & (df[\"DEF\"] == 0)], color = \"green\", kde = False)\n",
    "sns.distplot(df[\"EDAD\"][(df[\"COVID\"] == 0) & (df[\"DEF\"] == 1)], color = \"red\", kde = False)\n",
    "plt.title(\"Distribucion Edades de casos negativos \\n Defunciones vs No defunciones \");"
   ]
  },
  {
   "cell_type": "markdown",
   "metadata": {},
   "source": [
    "##### La distribucion de edad de personas que tienen COVID pero se compara con las personas fallecidas. En comparación con la grafica anterior es evidente que existe una mayor proporcion de defunciones cuando se diagnostica COVID. Es decir, existe una mayor probabilidad de defunción cuando se diagnostica con COVID."
   ]
  },
  {
   "cell_type": "code",
   "execution_count": 20,
   "metadata": {},
   "outputs": [
    {
     "data": {
      "image/png": "[encoded data removed]",
      "text/plain": [
       "<Figure size 432x288 with 1 Axes>"
      ]
     },
     "metadata": {
      "needs_background": "light"
     },
     "output_type": "display_data"
    }
   ],
   "source": [
    "sns.distplot(df[\"EDAD\"][(df[\"COVID\"] == 1) & (df[\"DEF\"] == 0)], color = \"green\", kde = False)\n",
    "sns.distplot(df[\"EDAD\"][(df[\"COVID\"] == 1) & (df[\"DEF\"] == 1)], color = \"red\", kde = False)\n",
    "plt.title(\"Distribucion Edades de casos positivos \\n Defunciones vs No defunciones \");"
   ]
  },
  {
   "cell_type": "markdown",
   "metadata": {},
   "source": [
    "## Datos faltantes"
   ]
  },
  {
   "cell_type": "code",
   "execution_count": 22,
   "metadata": {},
   "outputs": [
    {
     "data": {
      "text/plain": [
       "<matplotlib.axes._subplots.AxesSubplot at 0x18c0c5c8be0>"
      ]
     },
     "execution_count": 22,
     "metadata": {},
     "output_type": "execute_result"
    },
    {
     "data": {
      "image/png": "[encoded data removed]",
      "text/plain": [
       "<Figure size 1728x720 with 3 Axes>"
      ]
     },
     "metadata": {
      "needs_background": "light"
     },
     "output_type": "display_data"
    }
   ],
   "source": [
    "msno.bar(df)"
   ]
  },
  {
   "cell_type": "markdown",
   "metadata": {},
   "source": [
    "No se encontró ninugun dato faltante, todos estan completos"
   ]
  },
  {
   "cell_type": "code",
   "execution_count": 23,
   "metadata": {},
   "outputs": [
    {
     "name": "stdout",
     "output_type": "stream",
     "text": [
      "El tamaño del DataFrame: (4093453, 22)\n"
     ]
    }
   ],
   "source": [
    "print(\"El tamaño del DataFrame:\", df.shape)"
   ]
  },
  {
   "cell_type": "markdown",
   "metadata": {},
   "source": [
    "# Tratamiento de variables"
   ]
  },
  {
   "cell_type": "markdown",
   "metadata": {},
   "source": [
    "### Valores de las variables "
   ]
  },
  {
   "cell_type": "code",
   "execution_count": 24,
   "metadata": {},
   "outputs": [
    {
     "name": "stdout",
     "output_type": "stream",
     "text": [
      "Los valores unicos de ORIGEN son:  [2 1]\n",
      "Los valores unicos de SECTOR son:  [12  4  9  6  3 13  8 11 10  5  7  2  1 99]\n",
      "Los valores unicos de TIPO_PACIENTE son:  [1 2]\n",
      "Los valores unicos de INTUBADO son:  [97  2  1 99]\n",
      "Los valores unicos de NEUMONIA son:  [ 2  1 99]\n",
      "Los valores unicos de EMBARAZO son:  [97  2  1 98 99]\n",
      "Los valores unicos de DIABETES son:  [ 2  1 98]\n",
      "Los valores unicos de EPOC son:  [ 2  1 98]\n",
      "Los valores unicos de ASMA son:  [ 2  1 98]\n",
      "Los valores unicos de INMUSUPR son:  [ 2  1 98]\n",
      "Los valores unicos de HIPERTENSION son:  [ 1  2 98]\n",
      "Los valores unicos de OTRA_COM son:  [ 2  1 98]\n",
      "Los valores unicos de CARDIOVASCULAR son:  [ 2  1 98]\n",
      "Los valores unicos de OBESIDAD son:  [ 1  2 98]\n",
      "Los valores unicos de RENAL_CRONICA son:  [ 2  1 98]\n",
      "Los valores unicos de TABAQUISMO son:  [ 2  1 98]\n",
      "Los valores unicos de UCI son:  [97  2  1 99]\n",
      "Los valores unicos de COVID son:  [1 0]\n",
      "Los valores unicos de DEF son:  [0 1]\n"
     ]
    }
   ],
   "source": [
    "for i in df:\n",
    "    if (i == \"FECHA_DEF\") or (i == \"EDAD\") or (i == \"SEXO\") or (i == \"NACIONALIDAD\"):\n",
    "        continue\n",
    "    print(\"Los valores unicos de\",i,\"son: \",df[i].unique())"
   ]
  },
  {
   "cell_type": "markdown",
   "metadata": {},
   "source": [
    "### Revisamos los valores NA's de los datos. En este caso se especifican como 97,98 y 99 para referirse a un dato que no aplica, se ignora o no se especifica respectivamente"
   ]
  },
  {
   "cell_type": "code",
   "execution_count": 25,
   "metadata": {},
   "outputs": [],
   "source": [
    "x = []\n",
    "for i in df:\n",
    "    if (i == \"FECHA_DEF\") or (i == \"EDAD\") or (i == \"SEXO\") or (i == \"NACIONALIDAD\") or (i == \"SECTOR\"):\n",
    "        continue\n",
    "    x.append(df[i].value_counts())"
   ]
  },
  {
   "cell_type": "markdown",
   "metadata": {},
   "source": [
    "#### Valores 99"
   ]
  },
  {
   "cell_type": "code",
   "execution_count": 26,
   "metadata": {},
   "outputs": [
    {
     "name": "stdout",
     "output_type": "stream",
     "text": [
      "Los valores 99 de INTUBADO son menores que 1% y es el 0.15 % de los datos\n",
      "Los valores 99 de NEUMONIA son menores que 1% y es el 0.16 % de los datos\n",
      "Los valores 99 de EMBARAZO son menores que 1% y es el 0.0 % de los datos\n",
      "Los valores 99 de UCI son menores que 1% y es el 0.16 % de los datos\n"
     ]
    }
   ],
   "source": [
    "N = df.shape[0]\n",
    "\n",
    "for j in range(0,len(x)):\n",
    "    for i in x[j].index:\n",
    "        if i == 99:\n",
    "            if x[j][99]/N < .1:\n",
    "                print(\"Los valores 99 de\",x[j].name,\"son menores que 1% y es el\",round((x[j][99]/N)*100,2),\"% de los datos\")\n",
    "            else:\n",
    "                print(\"** Los valores 99 de\",x[j].name,\"son mayores que 1% y es el :\",round((x[j][99]/N)*100,2),\"% de los datos\")"
   ]
  },
  {
   "cell_type": "code",
   "execution_count": 27,
   "metadata": {},
   "outputs": [
    {
     "name": "stdout",
     "output_type": "stream",
     "text": [
      "Los valores 99 de INTUBADO son menores a 1% y son 6213\n",
      "Los valores 99 de NEUMONIA son menores a 1% y son 6671\n",
      "Los valores 99 de EMBARAZO son menores a 1% y son 3\n",
      "Los valores 99 de UCI son menores a 1% y son 6576\n"
     ]
    }
   ],
   "source": [
    "for j in range(0,len(x)):\n",
    "    for i in x[j].index:\n",
    "        if i == 99:\n",
    "            if x[j][99]/N < .1:\n",
    "                print(\"Los valores 99 de\",x[j].name,\"son menores a 1% y son\", x[j][99])\n",
    "            else:\n",
    "                print(\"** Los valores 99 de\",x[j].name,\" son mayores a 1% y son:\",x[j][99])"
   ]
  },
  {
   "cell_type": "markdown",
   "metadata": {},
   "source": [
    "#### Valores 98"
   ]
  },
  {
   "cell_type": "code",
   "execution_count": 28,
   "metadata": {},
   "outputs": [
    {
     "name": "stdout",
     "output_type": "stream",
     "text": [
      "Los valores 98 de EMBARAZO Son menores al 1% y es el: 0.33 % de los datos\n",
      "Los valores 98 de DIABETES Son menores al 1% y es el: 0.24 % de los datos\n",
      "Los valores 98 de EPOC Son menores al 1% y es el: 0.22 % de los datos\n",
      "Los valores 98 de ASMA Son menores al 1% y es el: 0.21 % de los datos\n",
      "Los valores 98 de INMUSUPR Son menores al 1% y es el: 0.22 % de los datos\n",
      "Los valores 98 de HIPERTENSION Son menores al 1% y es el: 0.22 % de los datos\n",
      "Los valores 98 de OTRA_COM Son menores al 1% y es el: 0.36 % de los datos\n",
      "Los valores 98 de CARDIOVASCULAR Son menores al 1% y es el: 0.22 % de los datos\n",
      "Los valores 98 de OBESIDAD Son menores al 1% y es el: 0.21 % de los datos\n",
      "Los valores 98 de RENAL_CRONICA Son menores al 1% y es el: 0.21 % de los datos\n",
      "Los valores 98 de TABAQUISMO Son menores al 1% y es el: 0.23 % de los datos\n"
     ]
    }
   ],
   "source": [
    "for j in range(0,len(x)):\n",
    "    for i in x[j].index:\n",
    "        if i == 98:\n",
    "            if x[j][98]/N < .1:\n",
    "                print(\"Los valores 98 de\",x[j].name,\"Son menores al 1% y es el:\",round((x[j][98]/N)*100,2),\"% de los datos\")\n",
    "            else:\n",
    "                print(\"** Los valores 98 de\",x[j].name,\"Son mayores al 1% y es el:\",round((x[j][98]/N)*100,2),\"% de los datos\")"
   ]
  },
  {
   "cell_type": "code",
   "execution_count": 29,
   "metadata": {},
   "outputs": [
    {
     "name": "stdout",
     "output_type": "stream",
     "text": [
      "Los valores 98 de EMBARAZO Son menores a 1% y son 13341\n",
      "Los valores 98 de DIABETES Son menores a 1% y son 9809\n",
      "Los valores 98 de EPOC Son menores a 1% y son 8902\n",
      "Los valores 98 de ASMA Son menores a 1% y son 8708\n",
      "Los valores 98 de INMUSUPR Son menores a 1% y son 9087\n",
      "Los valores 98 de HIPERTENSION Son menores a 1% y son 8973\n",
      "Los valores 98 de OTRA_COM Son menores a 1% y son 14535\n",
      "Los valores 98 de CARDIOVASCULAR Son menores a 1% y son 8844\n",
      "Los valores 98 de OBESIDAD Son menores a 1% y son 8429\n",
      "Los valores 98 de RENAL_CRONICA Son menores a 1% y son 8739\n",
      "Los valores 98 de TABAQUISMO Son menores a 1% y son 9274\n"
     ]
    }
   ],
   "source": [
    "for j in range(0,len(x)):\n",
    "    for i in x[j].index:\n",
    "        if i == 98:\n",
    "            if x[j][98]/N < .1:\n",
    "                print(\"Los valores 98 de\",x[j].name,\"Son menores a 1% y son\", x[j][98])\n",
    "            else:\n",
    "                print(\"** Los valores 98 de\",x[j].name,\"Son mayores a 1% y son:\", x[j][98])"
   ]
  },
  {
   "cell_type": "markdown",
   "metadata": {},
   "source": [
    "#### Valores 97"
   ]
  },
  {
   "cell_type": "code",
   "execution_count": 30,
   "metadata": {},
   "outputs": [
    {
     "name": "stdout",
     "output_type": "stream",
     "text": [
      "** Los valores 97 de INTUBADO son mayores a 1% y es el: 87.32 % de los datos\n",
      "** Los valores 97 de EMBARAZO son mayores a 1% y es el: 48.0 % de los datos\n",
      "** Los valores 97 de UCI son mayores a 1% y es el: 87.32 % de los datos\n"
     ]
    }
   ],
   "source": [
    "for j in range(0,len(x)):\n",
    "    for i in x[j].index:\n",
    "        if i == 97:\n",
    "            if x[j][97]/N < .1:\n",
    "                print(\"Los valores 97 de\",x[j].name,\" son menores a 1% y es el:\", round((x[j][97]/N)*100,2),\"% de los datos\")\n",
    "            else:\n",
    "                print(\"** Los valores 97 de\",x[j].name,\"son mayores a 1% y es el:\", round((x[j][97]/N)*100,2),\"% de los datos\")"
   ]
  },
  {
   "cell_type": "code",
   "execution_count": 31,
   "metadata": {},
   "outputs": [
    {
     "name": "stdout",
     "output_type": "stream",
     "text": [
      "** Los valores 97 de INTUBADO son mayores a 1% y son: 3574281 datos\n",
      "** Los valores 97 de EMBARAZO son mayores a 1% y son: 1964713 datos\n",
      "** Los valores 97 de UCI son mayores a 1% y son: 3574281 datos\n"
     ]
    }
   ],
   "source": [
    "for j in range(0,len(x)):\n",
    "    for i in x[j].index:\n",
    "        if i == 97:\n",
    "            if x[j][97]/N < .1:\n",
    "                print(\"Los valores 97 de\",x[j].name,\" son menores a 1% y son:\", x[j][97])\n",
    "            else:\n",
    "                print(\"** Los valores 97 de\",x[j].name,\"son mayores a 1% y son:\", x[j][97],\"datos\")"
   ]
  },
  {
   "cell_type": "markdown",
   "metadata": {},
   "source": [
    "# NA's, valores faltantes (97,98,99)"
   ]
  },
  {
   "cell_type": "markdown",
   "metadata": {},
   "source": [
    "Las variables que más NA's tienen son: INTUBADO, EMBARAZO, UCI, NEUMONIA y OTRO_CASO. Resolveremos el problema de estas variables y sus valores para no eliminarlos. "
   ]
  },
  {
   "cell_type": "markdown",
   "metadata": {},
   "source": [
    "### Analizando la variable EMBARAZO"
   ]
  },
  {
   "cell_type": "code",
   "execution_count": 32,
   "metadata": {},
   "outputs": [
    {
     "data": {
      "text/html": [
       "<div>\n",
       "<style scoped>\n",
       "    .dataframe tbody tr th:only-of-type {\n",
       "        vertical-align: middle;\n",
       "    }\n",
       "\n",
       "    .dataframe tbody tr th {\n",
       "        vertical-align: top;\n",
       "    }\n",
       "\n",
       "    .dataframe thead th {\n",
       "        text-align: right;\n",
       "    }\n",
       "</style>\n",
       "<table border=\"1\" class=\"dataframe\">\n",
       "  <thead>\n",
       "    <tr style=\"text-align: right;\">\n",
       "      <th></th>\n",
       "      <th>ORIGEN</th>\n",
       "      <th>SECTOR</th>\n",
       "      <th>SEXO</th>\n",
       "      <th>TIPO_PACIENTE</th>\n",
       "      <th>INTUBADO</th>\n",
       "      <th>NEUMONIA</th>\n",
       "      <th>EDAD</th>\n",
       "      <th>NACIONALIDAD</th>\n",
       "      <th>EMBARAZO</th>\n",
       "      <th>DIABETES</th>\n",
       "      <th>...</th>\n",
       "      <th>INMUSUPR</th>\n",
       "      <th>HIPERTENSION</th>\n",
       "      <th>OTRA_COM</th>\n",
       "      <th>CARDIOVASCULAR</th>\n",
       "      <th>OBESIDAD</th>\n",
       "      <th>RENAL_CRONICA</th>\n",
       "      <th>TABAQUISMO</th>\n",
       "      <th>UCI</th>\n",
       "      <th>COVID</th>\n",
       "      <th>DEF</th>\n",
       "    </tr>\n",
       "  </thead>\n",
       "  <tbody>\n",
       "    <tr>\n",
       "      <th>0</th>\n",
       "      <td>2</td>\n",
       "      <td>12</td>\n",
       "      <td>2</td>\n",
       "      <td>1</td>\n",
       "      <td>97</td>\n",
       "      <td>2</td>\n",
       "      <td>73</td>\n",
       "      <td>1</td>\n",
       "      <td>97</td>\n",
       "      <td>2</td>\n",
       "      <td>...</td>\n",
       "      <td>2</td>\n",
       "      <td>1</td>\n",
       "      <td>2</td>\n",
       "      <td>2</td>\n",
       "      <td>1</td>\n",
       "      <td>2</td>\n",
       "      <td>2</td>\n",
       "      <td>97</td>\n",
       "      <td>1</td>\n",
       "      <td>0</td>\n",
       "    </tr>\n",
       "    <tr>\n",
       "      <th>1</th>\n",
       "      <td>1</td>\n",
       "      <td>12</td>\n",
       "      <td>2</td>\n",
       "      <td>2</td>\n",
       "      <td>2</td>\n",
       "      <td>1</td>\n",
       "      <td>59</td>\n",
       "      <td>1</td>\n",
       "      <td>97</td>\n",
       "      <td>1</td>\n",
       "      <td>...</td>\n",
       "      <td>2</td>\n",
       "      <td>2</td>\n",
       "      <td>2</td>\n",
       "      <td>2</td>\n",
       "      <td>2</td>\n",
       "      <td>2</td>\n",
       "      <td>2</td>\n",
       "      <td>2</td>\n",
       "      <td>1</td>\n",
       "      <td>1</td>\n",
       "    </tr>\n",
       "    <tr>\n",
       "      <th>2</th>\n",
       "      <td>1</td>\n",
       "      <td>4</td>\n",
       "      <td>2</td>\n",
       "      <td>1</td>\n",
       "      <td>97</td>\n",
       "      <td>2</td>\n",
       "      <td>42</td>\n",
       "      <td>1</td>\n",
       "      <td>97</td>\n",
       "      <td>2</td>\n",
       "      <td>...</td>\n",
       "      <td>2</td>\n",
       "      <td>2</td>\n",
       "      <td>2</td>\n",
       "      <td>2</td>\n",
       "      <td>2</td>\n",
       "      <td>2</td>\n",
       "      <td>2</td>\n",
       "      <td>97</td>\n",
       "      <td>1</td>\n",
       "      <td>0</td>\n",
       "    </tr>\n",
       "    <tr>\n",
       "      <th>3</th>\n",
       "      <td>1</td>\n",
       "      <td>9</td>\n",
       "      <td>2</td>\n",
       "      <td>2</td>\n",
       "      <td>2</td>\n",
       "      <td>1</td>\n",
       "      <td>70</td>\n",
       "      <td>1</td>\n",
       "      <td>97</td>\n",
       "      <td>2</td>\n",
       "      <td>...</td>\n",
       "      <td>2</td>\n",
       "      <td>1</td>\n",
       "      <td>2</td>\n",
       "      <td>2</td>\n",
       "      <td>2</td>\n",
       "      <td>2</td>\n",
       "      <td>2</td>\n",
       "      <td>2</td>\n",
       "      <td>1</td>\n",
       "      <td>0</td>\n",
       "    </tr>\n",
       "    <tr>\n",
       "      <th>4</th>\n",
       "      <td>1</td>\n",
       "      <td>12</td>\n",
       "      <td>2</td>\n",
       "      <td>2</td>\n",
       "      <td>2</td>\n",
       "      <td>1</td>\n",
       "      <td>62</td>\n",
       "      <td>1</td>\n",
       "      <td>97</td>\n",
       "      <td>2</td>\n",
       "      <td>...</td>\n",
       "      <td>2</td>\n",
       "      <td>2</td>\n",
       "      <td>2</td>\n",
       "      <td>2</td>\n",
       "      <td>2</td>\n",
       "      <td>2</td>\n",
       "      <td>2</td>\n",
       "      <td>2</td>\n",
       "      <td>1</td>\n",
       "      <td>0</td>\n",
       "    </tr>\n",
       "    <tr>\n",
       "      <th>...</th>\n",
       "      <td>...</td>\n",
       "      <td>...</td>\n",
       "      <td>...</td>\n",
       "      <td>...</td>\n",
       "      <td>...</td>\n",
       "      <td>...</td>\n",
       "      <td>...</td>\n",
       "      <td>...</td>\n",
       "      <td>...</td>\n",
       "      <td>...</td>\n",
       "      <td>...</td>\n",
       "      <td>...</td>\n",
       "      <td>...</td>\n",
       "      <td>...</td>\n",
       "      <td>...</td>\n",
       "      <td>...</td>\n",
       "      <td>...</td>\n",
       "      <td>...</td>\n",
       "      <td>...</td>\n",
       "      <td>...</td>\n",
       "      <td>...</td>\n",
       "    </tr>\n",
       "    <tr>\n",
       "      <th>4544314</th>\n",
       "      <td>2</td>\n",
       "      <td>4</td>\n",
       "      <td>2</td>\n",
       "      <td>1</td>\n",
       "      <td>97</td>\n",
       "      <td>2</td>\n",
       "      <td>21</td>\n",
       "      <td>1</td>\n",
       "      <td>97</td>\n",
       "      <td>2</td>\n",
       "      <td>...</td>\n",
       "      <td>2</td>\n",
       "      <td>2</td>\n",
       "      <td>2</td>\n",
       "      <td>2</td>\n",
       "      <td>1</td>\n",
       "      <td>2</td>\n",
       "      <td>2</td>\n",
       "      <td>97</td>\n",
       "      <td>0</td>\n",
       "      <td>0</td>\n",
       "    </tr>\n",
       "    <tr>\n",
       "      <th>4544316</th>\n",
       "      <td>2</td>\n",
       "      <td>12</td>\n",
       "      <td>2</td>\n",
       "      <td>1</td>\n",
       "      <td>97</td>\n",
       "      <td>2</td>\n",
       "      <td>58</td>\n",
       "      <td>1</td>\n",
       "      <td>97</td>\n",
       "      <td>2</td>\n",
       "      <td>...</td>\n",
       "      <td>2</td>\n",
       "      <td>2</td>\n",
       "      <td>2</td>\n",
       "      <td>2</td>\n",
       "      <td>2</td>\n",
       "      <td>2</td>\n",
       "      <td>2</td>\n",
       "      <td>97</td>\n",
       "      <td>1</td>\n",
       "      <td>0</td>\n",
       "    </tr>\n",
       "    <tr>\n",
       "      <th>4544317</th>\n",
       "      <td>2</td>\n",
       "      <td>4</td>\n",
       "      <td>2</td>\n",
       "      <td>1</td>\n",
       "      <td>97</td>\n",
       "      <td>2</td>\n",
       "      <td>75</td>\n",
       "      <td>1</td>\n",
       "      <td>97</td>\n",
       "      <td>1</td>\n",
       "      <td>...</td>\n",
       "      <td>2</td>\n",
       "      <td>1</td>\n",
       "      <td>2</td>\n",
       "      <td>2</td>\n",
       "      <td>2</td>\n",
       "      <td>2</td>\n",
       "      <td>1</td>\n",
       "      <td>97</td>\n",
       "      <td>1</td>\n",
       "      <td>1</td>\n",
       "    </tr>\n",
       "    <tr>\n",
       "      <th>4544318</th>\n",
       "      <td>1</td>\n",
       "      <td>4</td>\n",
       "      <td>2</td>\n",
       "      <td>1</td>\n",
       "      <td>97</td>\n",
       "      <td>1</td>\n",
       "      <td>51</td>\n",
       "      <td>1</td>\n",
       "      <td>97</td>\n",
       "      <td>2</td>\n",
       "      <td>...</td>\n",
       "      <td>2</td>\n",
       "      <td>2</td>\n",
       "      <td>2</td>\n",
       "      <td>2</td>\n",
       "      <td>2</td>\n",
       "      <td>2</td>\n",
       "      <td>2</td>\n",
       "      <td>97</td>\n",
       "      <td>0</td>\n",
       "      <td>0</td>\n",
       "    </tr>\n",
       "    <tr>\n",
       "      <th>4544319</th>\n",
       "      <td>2</td>\n",
       "      <td>12</td>\n",
       "      <td>2</td>\n",
       "      <td>1</td>\n",
       "      <td>97</td>\n",
       "      <td>2</td>\n",
       "      <td>46</td>\n",
       "      <td>1</td>\n",
       "      <td>97</td>\n",
       "      <td>2</td>\n",
       "      <td>...</td>\n",
       "      <td>2</td>\n",
       "      <td>2</td>\n",
       "      <td>2</td>\n",
       "      <td>2</td>\n",
       "      <td>2</td>\n",
       "      <td>2</td>\n",
       "      <td>2</td>\n",
       "      <td>97</td>\n",
       "      <td>0</td>\n",
       "      <td>0</td>\n",
       "    </tr>\n",
       "  </tbody>\n",
       "</table>\n",
       "<p>1964713 rows × 22 columns</p>\n",
       "</div>"
      ],
      "text/plain": [
       "         ORIGEN  SECTOR  SEXO  TIPO_PACIENTE  INTUBADO  NEUMONIA  EDAD  \\\n",
       "0             2      12     2              1        97         2    73   \n",
       "1             1      12     2              2         2         1    59   \n",
       "2             1       4     2              1        97         2    42   \n",
       "3             1       9     2              2         2         1    70   \n",
       "4             1      12     2              2         2         1    62   \n",
       "...         ...     ...   ...            ...       ...       ...   ...   \n",
       "4544314       2       4     2              1        97         2    21   \n",
       "4544316       2      12     2              1        97         2    58   \n",
       "4544317       2       4     2              1        97         2    75   \n",
       "4544318       1       4     2              1        97         1    51   \n",
       "4544319       2      12     2              1        97         2    46   \n",
       "\n",
       "         NACIONALIDAD  EMBARAZO  DIABETES  ...  INMUSUPR  HIPERTENSION  \\\n",
       "0                   1        97         2  ...         2             1   \n",
       "1                   1        97         1  ...         2             2   \n",
       "2                   1        97         2  ...         2             2   \n",
       "3                   1        97         2  ...         2             1   \n",
       "4                   1        97         2  ...         2             2   \n",
       "...               ...       ...       ...  ...       ...           ...   \n",
       "4544314             1        97         2  ...         2             2   \n",
       "4544316             1        97         2  ...         2             2   \n",
       "4544317             1        97         1  ...         2             1   \n",
       "4544318             1        97         2  ...         2             2   \n",
       "4544319             1        97         2  ...         2             2   \n",
       "\n",
       "         OTRA_COM  CARDIOVASCULAR  OBESIDAD  RENAL_CRONICA  TABAQUISMO  UCI  \\\n",
       "0               2               2         1              2           2   97   \n",
       "1               2               2         2              2           2    2   \n",
       "2               2               2         2              2           2   97   \n",
       "3               2               2         2              2           2    2   \n",
       "4               2               2         2              2           2    2   \n",
       "...           ...             ...       ...            ...         ...  ...   \n",
       "4544314         2               2         1              2           2   97   \n",
       "4544316         2               2         2              2           2   97   \n",
       "4544317         2               2         2              2           1   97   \n",
       "4544318         2               2         2              2           2   97   \n",
       "4544319         2               2         2              2           2   97   \n",
       "\n",
       "         COVID  DEF  \n",
       "0            1    0  \n",
       "1            1    1  \n",
       "2            1    0  \n",
       "3            1    0  \n",
       "4            1    0  \n",
       "...        ...  ...  \n",
       "4544314      0    0  \n",
       "4544316      1    0  \n",
       "4544317      1    1  \n",
       "4544318      0    0  \n",
       "4544319      0    0  \n",
       "\n",
       "[1964713 rows x 22 columns]"
      ]
     },
     "execution_count": 32,
     "metadata": {},
     "output_type": "execute_result"
    }
   ],
   "source": [
    "df[(df[\"EMBARAZO\"] == 97) & (df[\"SEXO\"] == 2)]"
   ]
  },
  {
   "cell_type": "markdown",
   "metadata": {},
   "source": [
    "Los registros que tienen el valor 97, es decir, \"NO aplica\" en la variable EMBARAZO, son hombres por lo tanto, podemos catalogarlos como un NO y asignar el valor 2"
   ]
  },
  {
   "cell_type": "code",
   "execution_count": 33,
   "metadata": {},
   "outputs": [],
   "source": [
    "df[\"EMBARAZO\"] = df[\"EMBARAZO\"].replace(97,2)"
   ]
  },
  {
   "cell_type": "markdown",
   "metadata": {},
   "source": [
    "### Analizando la variable INTUBADO"
   ]
  },
  {
   "cell_type": "code",
   "execution_count": 34,
   "metadata": {},
   "outputs": [
    {
     "data": {
      "text/html": [
       "<div>\n",
       "<style scoped>\n",
       "    .dataframe tbody tr th:only-of-type {\n",
       "        vertical-align: middle;\n",
       "    }\n",
       "\n",
       "    .dataframe tbody tr th {\n",
       "        vertical-align: top;\n",
       "    }\n",
       "\n",
       "    .dataframe thead th {\n",
       "        text-align: right;\n",
       "    }\n",
       "</style>\n",
       "<table border=\"1\" class=\"dataframe\">\n",
       "  <thead>\n",
       "    <tr style=\"text-align: right;\">\n",
       "      <th></th>\n",
       "      <th>INTUBADO</th>\n",
       "      <th>UCI</th>\n",
       "      <th>NEUMONIA</th>\n",
       "    </tr>\n",
       "  </thead>\n",
       "  <tbody>\n",
       "    <tr>\n",
       "      <th>INTUBADO</th>\n",
       "      <td>1.000000</td>\n",
       "      <td>0.999564</td>\n",
       "      <td>0.065454</td>\n",
       "    </tr>\n",
       "    <tr>\n",
       "      <th>UCI</th>\n",
       "      <td>0.999564</td>\n",
       "      <td>1.000000</td>\n",
       "      <td>0.065399</td>\n",
       "    </tr>\n",
       "    <tr>\n",
       "      <th>NEUMONIA</th>\n",
       "      <td>0.065454</td>\n",
       "      <td>0.065399</td>\n",
       "      <td>1.000000</td>\n",
       "    </tr>\n",
       "  </tbody>\n",
       "</table>\n",
       "</div>"
      ],
      "text/plain": [
       "          INTUBADO       UCI  NEUMONIA\n",
       "INTUBADO  1.000000  0.999564  0.065454\n",
       "UCI       0.999564  1.000000  0.065399\n",
       "NEUMONIA  0.065454  0.065399  1.000000"
      ]
     },
     "execution_count": 34,
     "metadata": {},
     "output_type": "execute_result"
    }
   ],
   "source": [
    "df[[\"INTUBADO\",\"UCI\",\"NEUMONIA\"]].corr()"
   ]
  },
  {
   "cell_type": "markdown",
   "metadata": {},
   "source": [
    "Ya que INTUBADO y UCI tienen una alta correlacion podemos precindir de alguna de ellas. Ya que necesitamos que las variables independientes expliquen lo más que se pueda a la variable dependiente, elegimos a la que tenga más correlación a esta. "
   ]
  },
  {
   "cell_type": "code",
   "execution_count": 35,
   "metadata": {
    "scrolled": true
   },
   "outputs": [
    {
     "data": {
      "text/html": [
       "<div>\n",
       "<style scoped>\n",
       "    .dataframe tbody tr th:only-of-type {\n",
       "        vertical-align: middle;\n",
       "    }\n",
       "\n",
       "    .dataframe tbody tr th {\n",
       "        vertical-align: top;\n",
       "    }\n",
       "\n",
       "    .dataframe thead th {\n",
       "        text-align: right;\n",
       "    }\n",
       "</style>\n",
       "<table border=\"1\" class=\"dataframe\">\n",
       "  <thead>\n",
       "    <tr style=\"text-align: right;\">\n",
       "      <th></th>\n",
       "      <th>COVID</th>\n",
       "      <th>UCI</th>\n",
       "      <th>INTUBADO</th>\n",
       "    </tr>\n",
       "  </thead>\n",
       "  <tbody>\n",
       "    <tr>\n",
       "      <th>COVID</th>\n",
       "      <td>1.000000</td>\n",
       "      <td>-0.173447</td>\n",
       "      <td>-0.173242</td>\n",
       "    </tr>\n",
       "    <tr>\n",
       "      <th>UCI</th>\n",
       "      <td>-0.173447</td>\n",
       "      <td>1.000000</td>\n",
       "      <td>0.999564</td>\n",
       "    </tr>\n",
       "    <tr>\n",
       "      <th>INTUBADO</th>\n",
       "      <td>-0.173242</td>\n",
       "      <td>0.999564</td>\n",
       "      <td>1.000000</td>\n",
       "    </tr>\n",
       "  </tbody>\n",
       "</table>\n",
       "</div>"
      ],
      "text/plain": [
       "             COVID       UCI  INTUBADO\n",
       "COVID     1.000000 -0.173447 -0.173242\n",
       "UCI      -0.173447  1.000000  0.999564\n",
       "INTUBADO -0.173242  0.999564  1.000000"
      ]
     },
     "execution_count": 35,
     "metadata": {},
     "output_type": "execute_result"
    }
   ],
   "source": [
    "df[[\"COVID\",\"UCI\",\"INTUBADO\"]].corr()"
   ]
  },
  {
   "cell_type": "markdown",
   "metadata": {},
   "source": [
    "INTUBADO tiene menos correlacion con COVID, y tiene más correlación con otras variables independientes, por lo cual la podemos eliminar"
   ]
  },
  {
   "cell_type": "code",
   "execution_count": 36,
   "metadata": {},
   "outputs": [],
   "source": [
    "df = df.drop([\"INTUBADO\"], axis =1)"
   ]
  },
  {
   "cell_type": "markdown",
   "metadata": {},
   "source": [
    "#### Creamos un dataframe copia para la eliminacion de los valores nulos (Valores \"98\")"
   ]
  },
  {
   "cell_type": "code",
   "execution_count": 37,
   "metadata": {},
   "outputs": [],
   "source": [
    "df_copy = df.copy()"
   ]
  },
  {
   "cell_type": "code",
   "execution_count": 38,
   "metadata": {},
   "outputs": [],
   "source": [
    "df_copy = df_copy.drop([\"NACIONALIDAD\"], axis = 1)"
   ]
  },
  {
   "cell_type": "code",
   "execution_count": 39,
   "metadata": {},
   "outputs": [],
   "source": [
    "df_copy = df_copy.replace(98,np.nan)"
   ]
  },
  {
   "cell_type": "code",
   "execution_count": 40,
   "metadata": {},
   "outputs": [],
   "source": [
    "df_copy = df_copy.dropna()"
   ]
  },
  {
   "cell_type": "code",
   "execution_count": null,
   "metadata": {},
   "outputs": [],
   "source": []
  },
  {
   "cell_type": "code",
   "execution_count": 79,
   "metadata": {},
   "outputs": [
    {
     "name": "stdout",
     "output_type": "stream",
     "text": [
      "Los registros del DataFrame original:  4093453\n",
      "Los registros de los datos ya con las eliminaciones de los valores nulos 98:  4051534\n",
      "Diferencia de:  41919 registros\n"
     ]
    }
   ],
   "source": [
    "print(\"Los registros del DataFrame original: \",df.shape[0])\n",
    "print(\"Los registros de los datos ya con las eliminaciones de los valores nulos 98: \",df_copy.shape[0])\n",
    "print(\"Diferencia de: \", df.shape[0] - df_copy.shape[0], \"registros\")"
   ]
  },
  {
   "cell_type": "markdown",
   "metadata": {},
   "source": [
    "### Analizando la variable UCI"
   ]
  },
  {
   "cell_type": "markdown",
   "metadata": {},
   "source": [
    "###### Observamos las correlaciones lineales que existen entre la varible UCI y las demás variables de los datos "
   ]
  },
  {
   "cell_type": "code",
   "execution_count": 43,
   "metadata": {},
   "outputs": [
    {
     "data": {
      "text/plain": [
       "TIPO_PACIENTE    -0.992656\n",
       "DEF              -0.515149\n",
       "EDAD             -0.303706\n",
       "COVID            -0.173319\n",
       "SEXO             -0.073252\n",
       "ASMA             -0.006901\n",
       "TABAQUISMO       -0.006870\n",
       "EMBARAZO          0.009247\n",
       "NEUMONIA          0.065647\n",
       "OBESIDAD          0.076152\n",
       "INMUSUPR          0.082308\n",
       "CARDIOVASCULAR    0.106855\n",
       "OTRA_COM          0.109059\n",
       "EPOC              0.113592\n",
       "RENAL_CRONICA     0.162759\n",
       "ORIGEN            0.212672\n",
       "HIPERTENSION      0.234617\n",
       "DIABETES          0.248722\n",
       "SECTOR            0.253779\n",
       "dtype: float64"
      ]
     },
     "execution_count": 43,
     "metadata": {},
     "output_type": "execute_result"
    }
   ],
   "source": [
    "var_import = df_copy.drop(\"UCI\", axis = 1).apply(lambda x: x.corr(df_copy.UCI))\n",
    "indices = np.argsort(var_import)\n",
    "var_import[indices]"
   ]
  },
  {
   "cell_type": "markdown",
   "metadata": {},
   "source": [
    "Podemos observar que existen una alta correlación entre UCI y TIPO_PACIENTE, por lo tanto podemos eliminar una de ellas ya que no nos sirven variables altamente correlacionas entre las variables independientes "
   ]
  },
  {
   "cell_type": "code",
   "execution_count": 44,
   "metadata": {},
   "outputs": [
    {
     "data": {
      "text/html": [
       "<div>\n",
       "<style scoped>\n",
       "    .dataframe tbody tr th:only-of-type {\n",
       "        vertical-align: middle;\n",
       "    }\n",
       "\n",
       "    .dataframe tbody tr th {\n",
       "        vertical-align: top;\n",
       "    }\n",
       "\n",
       "    .dataframe thead th {\n",
       "        text-align: right;\n",
       "    }\n",
       "</style>\n",
       "<table border=\"1\" class=\"dataframe\">\n",
       "  <thead>\n",
       "    <tr style=\"text-align: right;\">\n",
       "      <th></th>\n",
       "      <th>UCI</th>\n",
       "      <th>TIPO_PACIENTE</th>\n",
       "      <th>COVID</th>\n",
       "    </tr>\n",
       "  </thead>\n",
       "  <tbody>\n",
       "    <tr>\n",
       "      <th>UCI</th>\n",
       "      <td>1.000000</td>\n",
       "      <td>-0.992656</td>\n",
       "      <td>-0.173319</td>\n",
       "    </tr>\n",
       "    <tr>\n",
       "      <th>TIPO_PACIENTE</th>\n",
       "      <td>-0.992656</td>\n",
       "      <td>1.000000</td>\n",
       "      <td>0.169644</td>\n",
       "    </tr>\n",
       "    <tr>\n",
       "      <th>COVID</th>\n",
       "      <td>-0.173319</td>\n",
       "      <td>0.169644</td>\n",
       "      <td>1.000000</td>\n",
       "    </tr>\n",
       "  </tbody>\n",
       "</table>\n",
       "</div>"
      ],
      "text/plain": [
       "                    UCI  TIPO_PACIENTE     COVID\n",
       "UCI            1.000000      -0.992656 -0.173319\n",
       "TIPO_PACIENTE -0.992656       1.000000  0.169644\n",
       "COVID         -0.173319       0.169644  1.000000"
      ]
     },
     "execution_count": 44,
     "metadata": {},
     "output_type": "execute_result"
    }
   ],
   "source": [
    "df_copy[[\"UCI\",\"TIPO_PACIENTE\",\"COVID\"]].corr()"
   ]
  },
  {
   "cell_type": "markdown",
   "metadata": {},
   "source": [
    "Aunque es cierto que la variable UCI tiene más correlación con COVID (la variable objetivo), tiene muchos valores nulos (99) y la variable TIPO_PACIENTE es limpia de estos. Asi que por comodidad nos quedaremos con TIPO_PACIENTE."
   ]
  },
  {
   "cell_type": "code",
   "execution_count": 45,
   "metadata": {},
   "outputs": [],
   "source": [
    "df_copy = df_copy.drop([\"UCI\"], axis = 1)"
   ]
  },
  {
   "cell_type": "markdown",
   "metadata": {},
   "source": [
    "### Analizando la variable NEUMONIA"
   ]
  },
  {
   "cell_type": "markdown",
   "metadata": {},
   "source": [
    "#### Eliminamos  los valores nulos (Valores \"99\")"
   ]
  },
  {
   "cell_type": "code",
   "execution_count": 46,
   "metadata": {},
   "outputs": [],
   "source": [
    "df_copy = df_copy.replace(99,np.nan)"
   ]
  },
  {
   "cell_type": "code",
   "execution_count": 47,
   "metadata": {},
   "outputs": [],
   "source": [
    "df_copy = df_copy.dropna()"
   ]
  },
  {
   "cell_type": "code",
   "execution_count": 48,
   "metadata": {},
   "outputs": [
    {
     "name": "stdout",
     "output_type": "stream",
     "text": [
      "(4093453, 21)\n",
      "(4051534, 19)\n"
     ]
    }
   ],
   "source": [
    "print(df.shape)\n",
    "print(df_copy.shape)"
   ]
  },
  {
   "cell_type": "markdown",
   "metadata": {},
   "source": [
    "### Analizando las variables independientes y correlacion con la variable dependiente "
   ]
  },
  {
   "cell_type": "code",
   "execution_count": 49,
   "metadata": {
    "scrolled": false
   },
   "outputs": [
    {
     "data": {
      "text/html": [
       "<div>\n",
       "<style scoped>\n",
       "    .dataframe tbody tr th:only-of-type {\n",
       "        vertical-align: middle;\n",
       "    }\n",
       "\n",
       "    .dataframe tbody tr th {\n",
       "        vertical-align: top;\n",
       "    }\n",
       "\n",
       "    .dataframe thead th {\n",
       "        text-align: right;\n",
       "    }\n",
       "</style>\n",
       "<table border=\"1\" class=\"dataframe\">\n",
       "  <thead>\n",
       "    <tr style=\"text-align: right;\">\n",
       "      <th></th>\n",
       "      <th>ORIGEN</th>\n",
       "      <th>SECTOR</th>\n",
       "      <th>SEXO</th>\n",
       "      <th>TIPO_PACIENTE</th>\n",
       "      <th>NEUMONIA</th>\n",
       "      <th>EDAD</th>\n",
       "      <th>EMBARAZO</th>\n",
       "      <th>DIABETES</th>\n",
       "      <th>EPOC</th>\n",
       "      <th>ASMA</th>\n",
       "      <th>INMUSUPR</th>\n",
       "      <th>HIPERTENSION</th>\n",
       "      <th>OTRA_COM</th>\n",
       "      <th>CARDIOVASCULAR</th>\n",
       "      <th>OBESIDAD</th>\n",
       "      <th>RENAL_CRONICA</th>\n",
       "      <th>TABAQUISMO</th>\n",
       "      <th>COVID</th>\n",
       "      <th>DEF</th>\n",
       "    </tr>\n",
       "  </thead>\n",
       "  <tbody>\n",
       "    <tr>\n",
       "      <th>ORIGEN</th>\n",
       "      <td>1.000000</td>\n",
       "      <td>0.125292</td>\n",
       "      <td>-0.003748</td>\n",
       "      <td>-0.215117</td>\n",
       "      <td>0.178410</td>\n",
       "      <td>-0.071891</td>\n",
       "      <td>0.002188</td>\n",
       "      <td>0.062775</td>\n",
       "      <td>0.025626</td>\n",
       "      <td>0.007656</td>\n",
       "      <td>0.017270</td>\n",
       "      <td>0.060989</td>\n",
       "      <td>0.027793</td>\n",
       "      <td>0.024244</td>\n",
       "      <td>0.022446</td>\n",
       "      <td>0.046862</td>\n",
       "      <td>-0.011266</td>\n",
       "      <td>-0.069859</td>\n",
       "      <td>-0.132736</td>\n",
       "    </tr>\n",
       "    <tr>\n",
       "      <th>SECTOR</th>\n",
       "      <td>0.125292</td>\n",
       "      <td>1.000000</td>\n",
       "      <td>-0.006481</td>\n",
       "      <td>-0.254808</td>\n",
       "      <td>0.170297</td>\n",
       "      <td>-0.092951</td>\n",
       "      <td>0.014803</td>\n",
       "      <td>0.085680</td>\n",
       "      <td>0.042266</td>\n",
       "      <td>0.015341</td>\n",
       "      <td>0.029946</td>\n",
       "      <td>0.102354</td>\n",
       "      <td>0.138629</td>\n",
       "      <td>0.034400</td>\n",
       "      <td>0.054744</td>\n",
       "      <td>0.073585</td>\n",
       "      <td>-0.026409</td>\n",
       "      <td>-0.144061</td>\n",
       "      <td>-0.188277</td>\n",
       "    </tr>\n",
       "    <tr>\n",
       "      <th>SEXO</th>\n",
       "      <td>-0.003748</td>\n",
       "      <td>-0.006481</td>\n",
       "      <td>1.000000</td>\n",
       "      <td>0.073455</td>\n",
       "      <td>-0.064100</td>\n",
       "      <td>0.013586</td>\n",
       "      <td>0.085020</td>\n",
       "      <td>-0.005119</td>\n",
       "      <td>-0.002842</td>\n",
       "      <td>0.038438</td>\n",
       "      <td>0.005629</td>\n",
       "      <td>0.004339</td>\n",
       "      <td>0.018578</td>\n",
       "      <td>-0.010970</td>\n",
       "      <td>0.019311</td>\n",
       "      <td>-0.014541</td>\n",
       "      <td>-0.096289</td>\n",
       "      <td>0.037486</td>\n",
       "      <td>0.062991</td>\n",
       "    </tr>\n",
       "    <tr>\n",
       "      <th>TIPO_PACIENTE</th>\n",
       "      <td>-0.215117</td>\n",
       "      <td>-0.254808</td>\n",
       "      <td>0.073455</td>\n",
       "      <td>1.000000</td>\n",
       "      <td>-0.665154</td>\n",
       "      <td>0.304142</td>\n",
       "      <td>-0.012847</td>\n",
       "      <td>-0.249496</td>\n",
       "      <td>-0.114962</td>\n",
       "      <td>0.006574</td>\n",
       "      <td>-0.083284</td>\n",
       "      <td>-0.235349</td>\n",
       "      <td>-0.109902</td>\n",
       "      <td>-0.107370</td>\n",
       "      <td>-0.076467</td>\n",
       "      <td>-0.163554</td>\n",
       "      <td>0.006882</td>\n",
       "      <td>0.172722</td>\n",
       "      <td>0.517899</td>\n",
       "    </tr>\n",
       "    <tr>\n",
       "      <th>NEUMONIA</th>\n",
       "      <td>0.178410</td>\n",
       "      <td>0.170297</td>\n",
       "      <td>-0.064100</td>\n",
       "      <td>-0.665154</td>\n",
       "      <td>1.000000</td>\n",
       "      <td>-0.264856</td>\n",
       "      <td>-0.011764</td>\n",
       "      <td>0.203906</td>\n",
       "      <td>0.093065</td>\n",
       "      <td>-0.004978</td>\n",
       "      <td>0.057796</td>\n",
       "      <td>0.190790</td>\n",
       "      <td>0.071200</td>\n",
       "      <td>0.081056</td>\n",
       "      <td>0.075532</td>\n",
       "      <td>0.118388</td>\n",
       "      <td>-0.002271</td>\n",
       "      <td>-0.167131</td>\n",
       "      <td>-0.470834</td>\n",
       "    </tr>\n",
       "    <tr>\n",
       "      <th>EDAD</th>\n",
       "      <td>-0.071891</td>\n",
       "      <td>-0.092951</td>\n",
       "      <td>0.013586</td>\n",
       "      <td>0.304142</td>\n",
       "      <td>-0.264856</td>\n",
       "      <td>1.000000</td>\n",
       "      <td>0.071141</td>\n",
       "      <td>-0.330645</td>\n",
       "      <td>-0.140744</td>\n",
       "      <td>0.021501</td>\n",
       "      <td>-0.032029</td>\n",
       "      <td>-0.397835</td>\n",
       "      <td>-0.045292</td>\n",
       "      <td>-0.120956</td>\n",
       "      <td>-0.086027</td>\n",
       "      <td>-0.092644</td>\n",
       "      <td>0.003101</td>\n",
       "      <td>0.133365</td>\n",
       "      <td>0.283233</td>\n",
       "    </tr>\n",
       "    <tr>\n",
       "      <th>EMBARAZO</th>\n",
       "      <td>0.002188</td>\n",
       "      <td>0.014803</td>\n",
       "      <td>0.085020</td>\n",
       "      <td>-0.012847</td>\n",
       "      <td>-0.011764</td>\n",
       "      <td>0.071141</td>\n",
       "      <td>1.000000</td>\n",
       "      <td>-0.022989</td>\n",
       "      <td>-0.007491</td>\n",
       "      <td>-0.002092</td>\n",
       "      <td>-0.001121</td>\n",
       "      <td>-0.029425</td>\n",
       "      <td>0.018024</td>\n",
       "      <td>-0.008142</td>\n",
       "      <td>-0.015961</td>\n",
       "      <td>-0.008383</td>\n",
       "      <td>-0.020292</td>\n",
       "      <td>0.013926</td>\n",
       "      <td>0.017147</td>\n",
       "    </tr>\n",
       "    <tr>\n",
       "      <th>DIABETES</th>\n",
       "      <td>0.062775</td>\n",
       "      <td>0.085680</td>\n",
       "      <td>-0.005119</td>\n",
       "      <td>-0.249496</td>\n",
       "      <td>0.203906</td>\n",
       "      <td>-0.330645</td>\n",
       "      <td>-0.022989</td>\n",
       "      <td>1.000000</td>\n",
       "      <td>0.088270</td>\n",
       "      <td>0.005088</td>\n",
       "      <td>0.046712</td>\n",
       "      <td>0.381750</td>\n",
       "      <td>0.038487</td>\n",
       "      <td>0.101819</td>\n",
       "      <td>0.115272</td>\n",
       "      <td>0.156061</td>\n",
       "      <td>0.003597</td>\n",
       "      <td>-0.085530</td>\n",
       "      <td>-0.197101</td>\n",
       "    </tr>\n",
       "    <tr>\n",
       "      <th>EPOC</th>\n",
       "      <td>0.025626</td>\n",
       "      <td>0.042266</td>\n",
       "      <td>-0.002842</td>\n",
       "      <td>-0.114962</td>\n",
       "      <td>0.093065</td>\n",
       "      <td>-0.140744</td>\n",
       "      <td>-0.007491</td>\n",
       "      <td>0.088270</td>\n",
       "      <td>1.000000</td>\n",
       "      <td>0.034362</td>\n",
       "      <td>0.046171</td>\n",
       "      <td>0.105208</td>\n",
       "      <td>0.037362</td>\n",
       "      <td>0.097612</td>\n",
       "      <td>0.041020</td>\n",
       "      <td>0.059155</td>\n",
       "      <td>0.046462</td>\n",
       "      <td>-0.015494</td>\n",
       "      <td>-0.090191</td>\n",
       "    </tr>\n",
       "    <tr>\n",
       "      <th>ASMA</th>\n",
       "      <td>0.007656</td>\n",
       "      <td>0.015341</td>\n",
       "      <td>0.038438</td>\n",
       "      <td>0.006574</td>\n",
       "      <td>-0.004978</td>\n",
       "      <td>0.021501</td>\n",
       "      <td>-0.002092</td>\n",
       "      <td>0.005088</td>\n",
       "      <td>0.034362</td>\n",
       "      <td>1.000000</td>\n",
       "      <td>0.018811</td>\n",
       "      <td>0.013247</td>\n",
       "      <td>0.014354</td>\n",
       "      <td>0.018046</td>\n",
       "      <td>0.039469</td>\n",
       "      <td>0.002759</td>\n",
       "      <td>0.001525</td>\n",
       "      <td>0.011425</td>\n",
       "      <td>0.008826</td>\n",
       "    </tr>\n",
       "    <tr>\n",
       "      <th>INMUSUPR</th>\n",
       "      <td>0.017270</td>\n",
       "      <td>0.029946</td>\n",
       "      <td>0.005629</td>\n",
       "      <td>-0.083284</td>\n",
       "      <td>0.057796</td>\n",
       "      <td>-0.032029</td>\n",
       "      <td>-0.001121</td>\n",
       "      <td>0.046712</td>\n",
       "      <td>0.046171</td>\n",
       "      <td>0.018811</td>\n",
       "      <td>1.000000</td>\n",
       "      <td>0.036808</td>\n",
       "      <td>0.105658</td>\n",
       "      <td>0.052091</td>\n",
       "      <td>0.017370</td>\n",
       "      <td>0.091106</td>\n",
       "      <td>0.005877</td>\n",
       "      <td>0.002531</td>\n",
       "      <td>-0.044499</td>\n",
       "    </tr>\n",
       "    <tr>\n",
       "      <th>HIPERTENSION</th>\n",
       "      <td>0.060989</td>\n",
       "      <td>0.102354</td>\n",
       "      <td>0.004339</td>\n",
       "      <td>-0.235349</td>\n",
       "      <td>0.190790</td>\n",
       "      <td>-0.397835</td>\n",
       "      <td>-0.029425</td>\n",
       "      <td>0.381750</td>\n",
       "      <td>0.105208</td>\n",
       "      <td>0.013247</td>\n",
       "      <td>0.036808</td>\n",
       "      <td>1.000000</td>\n",
       "      <td>0.052599</td>\n",
       "      <td>0.147161</td>\n",
       "      <td>0.162407</td>\n",
       "      <td>0.171864</td>\n",
       "      <td>-0.003305</td>\n",
       "      <td>-0.082146</td>\n",
       "      <td>-0.196378</td>\n",
       "    </tr>\n",
       "    <tr>\n",
       "      <th>OTRA_COM</th>\n",
       "      <td>0.027793</td>\n",
       "      <td>0.138629</td>\n",
       "      <td>0.018578</td>\n",
       "      <td>-0.109902</td>\n",
       "      <td>0.071200</td>\n",
       "      <td>-0.045292</td>\n",
       "      <td>0.018024</td>\n",
       "      <td>0.038487</td>\n",
       "      <td>0.037362</td>\n",
       "      <td>0.014354</td>\n",
       "      <td>0.105658</td>\n",
       "      <td>0.052599</td>\n",
       "      <td>1.000000</td>\n",
       "      <td>0.061141</td>\n",
       "      <td>0.023327</td>\n",
       "      <td>0.048518</td>\n",
       "      <td>0.005324</td>\n",
       "      <td>-0.010997</td>\n",
       "      <td>-0.070418</td>\n",
       "    </tr>\n",
       "    <tr>\n",
       "      <th>CARDIOVASCULAR</th>\n",
       "      <td>0.024244</td>\n",
       "      <td>0.034400</td>\n",
       "      <td>-0.010970</td>\n",
       "      <td>-0.107370</td>\n",
       "      <td>0.081056</td>\n",
       "      <td>-0.120956</td>\n",
       "      <td>-0.008142</td>\n",
       "      <td>0.101819</td>\n",
       "      <td>0.097612</td>\n",
       "      <td>0.018046</td>\n",
       "      <td>0.052091</td>\n",
       "      <td>0.147161</td>\n",
       "      <td>0.061141</td>\n",
       "      <td>1.000000</td>\n",
       "      <td>0.054083</td>\n",
       "      <td>0.099332</td>\n",
       "      <td>0.022176</td>\n",
       "      <td>-0.010252</td>\n",
       "      <td>-0.077404</td>\n",
       "    </tr>\n",
       "    <tr>\n",
       "      <th>OBESIDAD</th>\n",
       "      <td>0.022446</td>\n",
       "      <td>0.054744</td>\n",
       "      <td>0.019311</td>\n",
       "      <td>-0.076467</td>\n",
       "      <td>0.075532</td>\n",
       "      <td>-0.086027</td>\n",
       "      <td>-0.015961</td>\n",
       "      <td>0.115272</td>\n",
       "      <td>0.041020</td>\n",
       "      <td>0.039469</td>\n",
       "      <td>0.017370</td>\n",
       "      <td>0.162407</td>\n",
       "      <td>0.023327</td>\n",
       "      <td>0.054083</td>\n",
       "      <td>1.000000</td>\n",
       "      <td>0.019926</td>\n",
       "      <td>0.071113</td>\n",
       "      <td>-0.062346</td>\n",
       "      <td>-0.058964</td>\n",
       "    </tr>\n",
       "    <tr>\n",
       "      <th>RENAL_CRONICA</th>\n",
       "      <td>0.046862</td>\n",
       "      <td>0.073585</td>\n",
       "      <td>-0.014541</td>\n",
       "      <td>-0.163554</td>\n",
       "      <td>0.118388</td>\n",
       "      <td>-0.092644</td>\n",
       "      <td>-0.008383</td>\n",
       "      <td>0.156061</td>\n",
       "      <td>0.059155</td>\n",
       "      <td>0.002759</td>\n",
       "      <td>0.091106</td>\n",
       "      <td>0.171864</td>\n",
       "      <td>0.048518</td>\n",
       "      <td>0.099332</td>\n",
       "      <td>0.019926</td>\n",
       "      <td>1.000000</td>\n",
       "      <td>0.007030</td>\n",
       "      <td>-0.013804</td>\n",
       "      <td>-0.128492</td>\n",
       "    </tr>\n",
       "    <tr>\n",
       "      <th>TABAQUISMO</th>\n",
       "      <td>-0.011266</td>\n",
       "      <td>-0.026409</td>\n",
       "      <td>-0.096289</td>\n",
       "      <td>0.006882</td>\n",
       "      <td>-0.002271</td>\n",
       "      <td>0.003101</td>\n",
       "      <td>-0.020292</td>\n",
       "      <td>0.003597</td>\n",
       "      <td>0.046462</td>\n",
       "      <td>0.001525</td>\n",
       "      <td>0.005877</td>\n",
       "      <td>-0.003305</td>\n",
       "      <td>0.005324</td>\n",
       "      <td>0.022176</td>\n",
       "      <td>0.071113</td>\n",
       "      <td>0.007030</td>\n",
       "      <td>1.000000</td>\n",
       "      <td>0.030723</td>\n",
       "      <td>0.001703</td>\n",
       "    </tr>\n",
       "    <tr>\n",
       "      <th>COVID</th>\n",
       "      <td>-0.069859</td>\n",
       "      <td>-0.144061</td>\n",
       "      <td>0.037486</td>\n",
       "      <td>0.172722</td>\n",
       "      <td>-0.167131</td>\n",
       "      <td>0.133365</td>\n",
       "      <td>0.013926</td>\n",
       "      <td>-0.085530</td>\n",
       "      <td>-0.015494</td>\n",
       "      <td>0.011425</td>\n",
       "      <td>0.002531</td>\n",
       "      <td>-0.082146</td>\n",
       "      <td>-0.010997</td>\n",
       "      <td>-0.010252</td>\n",
       "      <td>-0.062346</td>\n",
       "      <td>-0.013804</td>\n",
       "      <td>0.030723</td>\n",
       "      <td>1.000000</td>\n",
       "      <td>0.164083</td>\n",
       "    </tr>\n",
       "    <tr>\n",
       "      <th>DEF</th>\n",
       "      <td>-0.132736</td>\n",
       "      <td>-0.188277</td>\n",
       "      <td>0.062991</td>\n",
       "      <td>0.517899</td>\n",
       "      <td>-0.470834</td>\n",
       "      <td>0.283233</td>\n",
       "      <td>0.017147</td>\n",
       "      <td>-0.197101</td>\n",
       "      <td>-0.090191</td>\n",
       "      <td>0.008826</td>\n",
       "      <td>-0.044499</td>\n",
       "      <td>-0.196378</td>\n",
       "      <td>-0.070418</td>\n",
       "      <td>-0.077404</td>\n",
       "      <td>-0.058964</td>\n",
       "      <td>-0.128492</td>\n",
       "      <td>0.001703</td>\n",
       "      <td>0.164083</td>\n",
       "      <td>1.000000</td>\n",
       "    </tr>\n",
       "  </tbody>\n",
       "</table>\n",
       "</div>"
      ],
      "text/plain": [
       "                  ORIGEN    SECTOR      SEXO  TIPO_PACIENTE  NEUMONIA  \\\n",
       "ORIGEN          1.000000  0.125292 -0.003748      -0.215117  0.178410   \n",
       "SECTOR          0.125292  1.000000 -0.006481      -0.254808  0.170297   \n",
       "SEXO           -0.003748 -0.006481  1.000000       0.073455 -0.064100   \n",
       "TIPO_PACIENTE  -0.215117 -0.254808  0.073455       1.000000 -0.665154   \n",
       "NEUMONIA        0.178410  0.170297 -0.064100      -0.665154  1.000000   \n",
       "EDAD           -0.071891 -0.092951  0.013586       0.304142 -0.264856   \n",
       "EMBARAZO        0.002188  0.014803  0.085020      -0.012847 -0.011764   \n",
       "DIABETES        0.062775  0.085680 -0.005119      -0.249496  0.203906   \n",
       "EPOC            0.025626  0.042266 -0.002842      -0.114962  0.093065   \n",
       "ASMA            0.007656  0.015341  0.038438       0.006574 -0.004978   \n",
       "INMUSUPR        0.017270  0.029946  0.005629      -0.083284  0.057796   \n",
       "HIPERTENSION    0.060989  0.102354  0.004339      -0.235349  0.190790   \n",
       "OTRA_COM        0.027793  0.138629  0.018578      -0.109902  0.071200   \n",
       "CARDIOVASCULAR  0.024244  0.034400 -0.010970      -0.107370  0.081056   \n",
       "OBESIDAD        0.022446  0.054744  0.019311      -0.076467  0.075532   \n",
       "RENAL_CRONICA   0.046862  0.073585 -0.014541      -0.163554  0.118388   \n",
       "TABAQUISMO     -0.011266 -0.026409 -0.096289       0.006882 -0.002271   \n",
       "COVID          -0.069859 -0.144061  0.037486       0.172722 -0.167131   \n",
       "DEF            -0.132736 -0.188277  0.062991       0.517899 -0.470834   \n",
       "\n",
       "                    EDAD  EMBARAZO  DIABETES      EPOC      ASMA  INMUSUPR  \\\n",
       "ORIGEN         -0.071891  0.002188  0.062775  0.025626  0.007656  0.017270   \n",
       "SECTOR         -0.092951  0.014803  0.085680  0.042266  0.015341  0.029946   \n",
       "SEXO            0.013586  0.085020 -0.005119 -0.002842  0.038438  0.005629   \n",
       "TIPO_PACIENTE   0.304142 -0.012847 -0.249496 -0.114962  0.006574 -0.083284   \n",
       "NEUMONIA       -0.264856 -0.011764  0.203906  0.093065 -0.004978  0.057796   \n",
       "EDAD            1.000000  0.071141 -0.330645 -0.140744  0.021501 -0.032029   \n",
       "EMBARAZO        0.071141  1.000000 -0.022989 -0.007491 -0.002092 -0.001121   \n",
       "DIABETES       -0.330645 -0.022989  1.000000  0.088270  0.005088  0.046712   \n",
       "EPOC           -0.140744 -0.007491  0.088270  1.000000  0.034362  0.046171   \n",
       "ASMA            0.021501 -0.002092  0.005088  0.034362  1.000000  0.018811   \n",
       "INMUSUPR       -0.032029 -0.001121  0.046712  0.046171  0.018811  1.000000   \n",
       "HIPERTENSION   -0.397835 -0.029425  0.381750  0.105208  0.013247  0.036808   \n",
       "OTRA_COM       -0.045292  0.018024  0.038487  0.037362  0.014354  0.105658   \n",
       "CARDIOVASCULAR -0.120956 -0.008142  0.101819  0.097612  0.018046  0.052091   \n",
       "OBESIDAD       -0.086027 -0.015961  0.115272  0.041020  0.039469  0.017370   \n",
       "RENAL_CRONICA  -0.092644 -0.008383  0.156061  0.059155  0.002759  0.091106   \n",
       "TABAQUISMO      0.003101 -0.020292  0.003597  0.046462  0.001525  0.005877   \n",
       "COVID           0.133365  0.013926 -0.085530 -0.015494  0.011425  0.002531   \n",
       "DEF             0.283233  0.017147 -0.197101 -0.090191  0.008826 -0.044499   \n",
       "\n",
       "                HIPERTENSION  OTRA_COM  CARDIOVASCULAR  OBESIDAD  \\\n",
       "ORIGEN              0.060989  0.027793        0.024244  0.022446   \n",
       "SECTOR              0.102354  0.138629        0.034400  0.054744   \n",
       "SEXO                0.004339  0.018578       -0.010970  0.019311   \n",
       "TIPO_PACIENTE      -0.235349 -0.109902       -0.107370 -0.076467   \n",
       "NEUMONIA            0.190790  0.071200        0.081056  0.075532   \n",
       "EDAD               -0.397835 -0.045292       -0.120956 -0.086027   \n",
       "EMBARAZO           -0.029425  0.018024       -0.008142 -0.015961   \n",
       "DIABETES            0.381750  0.038487        0.101819  0.115272   \n",
       "EPOC                0.105208  0.037362        0.097612  0.041020   \n",
       "ASMA                0.013247  0.014354        0.018046  0.039469   \n",
       "INMUSUPR            0.036808  0.105658        0.052091  0.017370   \n",
       "HIPERTENSION        1.000000  0.052599        0.147161  0.162407   \n",
       "OTRA_COM            0.052599  1.000000        0.061141  0.023327   \n",
       "CARDIOVASCULAR      0.147161  0.061141        1.000000  0.054083   \n",
       "OBESIDAD            0.162407  0.023327        0.054083  1.000000   \n",
       "RENAL_CRONICA       0.171864  0.048518        0.099332  0.019926   \n",
       "TABAQUISMO         -0.003305  0.005324        0.022176  0.071113   \n",
       "COVID              -0.082146 -0.010997       -0.010252 -0.062346   \n",
       "DEF                -0.196378 -0.070418       -0.077404 -0.058964   \n",
       "\n",
       "                RENAL_CRONICA  TABAQUISMO     COVID       DEF  \n",
       "ORIGEN               0.046862   -0.011266 -0.069859 -0.132736  \n",
       "SECTOR               0.073585   -0.026409 -0.144061 -0.188277  \n",
       "SEXO                -0.014541   -0.096289  0.037486  0.062991  \n",
       "TIPO_PACIENTE       -0.163554    0.006882  0.172722  0.517899  \n",
       "NEUMONIA             0.118388   -0.002271 -0.167131 -0.470834  \n",
       "EDAD                -0.092644    0.003101  0.133365  0.283233  \n",
       "EMBARAZO            -0.008383   -0.020292  0.013926  0.017147  \n",
       "DIABETES             0.156061    0.003597 -0.085530 -0.197101  \n",
       "EPOC                 0.059155    0.046462 -0.015494 -0.090191  \n",
       "ASMA                 0.002759    0.001525  0.011425  0.008826  \n",
       "INMUSUPR             0.091106    0.005877  0.002531 -0.044499  \n",
       "HIPERTENSION         0.171864   -0.003305 -0.082146 -0.196378  \n",
       "OTRA_COM             0.048518    0.005324 -0.010997 -0.070418  \n",
       "CARDIOVASCULAR       0.099332    0.022176 -0.010252 -0.077404  \n",
       "OBESIDAD             0.019926    0.071113 -0.062346 -0.058964  \n",
       "RENAL_CRONICA        1.000000    0.007030 -0.013804 -0.128492  \n",
       "TABAQUISMO           0.007030    1.000000  0.030723  0.001703  \n",
       "COVID               -0.013804    0.030723  1.000000  0.164083  \n",
       "DEF                 -0.128492    0.001703  0.164083  1.000000  "
      ]
     },
     "execution_count": 49,
     "metadata": {},
     "output_type": "execute_result"
    }
   ],
   "source": [
    "df_copy.corr()"
   ]
  },
  {
   "cell_type": "markdown",
   "metadata": {},
   "source": [
    "### Visualizacion del DataFrame final "
   ]
  },
  {
   "cell_type": "code",
   "execution_count": 80,
   "metadata": {},
   "outputs": [
    {
     "data": {
      "text/html": [
       "<div>\n",
       "<style scoped>\n",
       "    .dataframe tbody tr th:only-of-type {\n",
       "        vertical-align: middle;\n",
       "    }\n",
       "\n",
       "    .dataframe tbody tr th {\n",
       "        vertical-align: top;\n",
       "    }\n",
       "\n",
       "    .dataframe thead th {\n",
       "        text-align: right;\n",
       "    }\n",
       "</style>\n",
       "<table border=\"1\" class=\"dataframe\">\n",
       "  <thead>\n",
       "    <tr style=\"text-align: right;\">\n",
       "      <th></th>\n",
       "      <th>SECTOR</th>\n",
       "      <th>SEXO</th>\n",
       "      <th>TIPO_PACIENTE</th>\n",
       "      <th>NEUMONIA</th>\n",
       "      <th>EDAD</th>\n",
       "      <th>EMBARAZO</th>\n",
       "      <th>DIABETES</th>\n",
       "      <th>EPOC</th>\n",
       "      <th>ASMA</th>\n",
       "      <th>INMUSUPR</th>\n",
       "      <th>HIPERTENSION</th>\n",
       "      <th>OTRA_COM</th>\n",
       "      <th>CARDIOVASCULAR</th>\n",
       "      <th>OBESIDAD</th>\n",
       "      <th>RENAL_CRONICA</th>\n",
       "      <th>TABAQUISMO</th>\n",
       "      <th>COVID</th>\n",
       "    </tr>\n",
       "  </thead>\n",
       "  <tbody>\n",
       "    <tr>\n",
       "      <th>0</th>\n",
       "      <td>12.0</td>\n",
       "      <td>2</td>\n",
       "      <td>1</td>\n",
       "      <td>2.0</td>\n",
       "      <td>73.0</td>\n",
       "      <td>2.0</td>\n",
       "      <td>2.0</td>\n",
       "      <td>2.0</td>\n",
       "      <td>2.0</td>\n",
       "      <td>2.0</td>\n",
       "      <td>1.0</td>\n",
       "      <td>2.0</td>\n",
       "      <td>2.0</td>\n",
       "      <td>1.0</td>\n",
       "      <td>2.0</td>\n",
       "      <td>2.0</td>\n",
       "      <td>1</td>\n",
       "    </tr>\n",
       "    <tr>\n",
       "      <th>1</th>\n",
       "      <td>12.0</td>\n",
       "      <td>2</td>\n",
       "      <td>2</td>\n",
       "      <td>1.0</td>\n",
       "      <td>59.0</td>\n",
       "      <td>2.0</td>\n",
       "      <td>1.0</td>\n",
       "      <td>2.0</td>\n",
       "      <td>2.0</td>\n",
       "      <td>2.0</td>\n",
       "      <td>2.0</td>\n",
       "      <td>2.0</td>\n",
       "      <td>2.0</td>\n",
       "      <td>2.0</td>\n",
       "      <td>2.0</td>\n",
       "      <td>2.0</td>\n",
       "      <td>1</td>\n",
       "    </tr>\n",
       "    <tr>\n",
       "      <th>2</th>\n",
       "      <td>4.0</td>\n",
       "      <td>2</td>\n",
       "      <td>1</td>\n",
       "      <td>2.0</td>\n",
       "      <td>42.0</td>\n",
       "      <td>2.0</td>\n",
       "      <td>2.0</td>\n",
       "      <td>2.0</td>\n",
       "      <td>2.0</td>\n",
       "      <td>2.0</td>\n",
       "      <td>2.0</td>\n",
       "      <td>2.0</td>\n",
       "      <td>2.0</td>\n",
       "      <td>2.0</td>\n",
       "      <td>2.0</td>\n",
       "      <td>2.0</td>\n",
       "      <td>1</td>\n",
       "    </tr>\n",
       "    <tr>\n",
       "      <th>3</th>\n",
       "      <td>9.0</td>\n",
       "      <td>2</td>\n",
       "      <td>2</td>\n",
       "      <td>1.0</td>\n",
       "      <td>70.0</td>\n",
       "      <td>2.0</td>\n",
       "      <td>2.0</td>\n",
       "      <td>2.0</td>\n",
       "      <td>2.0</td>\n",
       "      <td>2.0</td>\n",
       "      <td>1.0</td>\n",
       "      <td>2.0</td>\n",
       "      <td>2.0</td>\n",
       "      <td>2.0</td>\n",
       "      <td>2.0</td>\n",
       "      <td>2.0</td>\n",
       "      <td>1</td>\n",
       "    </tr>\n",
       "    <tr>\n",
       "      <th>4</th>\n",
       "      <td>12.0</td>\n",
       "      <td>2</td>\n",
       "      <td>2</td>\n",
       "      <td>1.0</td>\n",
       "      <td>62.0</td>\n",
       "      <td>2.0</td>\n",
       "      <td>2.0</td>\n",
       "      <td>2.0</td>\n",
       "      <td>2.0</td>\n",
       "      <td>2.0</td>\n",
       "      <td>2.0</td>\n",
       "      <td>2.0</td>\n",
       "      <td>2.0</td>\n",
       "      <td>2.0</td>\n",
       "      <td>2.0</td>\n",
       "      <td>2.0</td>\n",
       "      <td>1</td>\n",
       "    </tr>\n",
       "    <tr>\n",
       "      <th>5</th>\n",
       "      <td>6.0</td>\n",
       "      <td>2</td>\n",
       "      <td>1</td>\n",
       "      <td>2.0</td>\n",
       "      <td>29.0</td>\n",
       "      <td>2.0</td>\n",
       "      <td>2.0</td>\n",
       "      <td>2.0</td>\n",
       "      <td>2.0</td>\n",
       "      <td>2.0</td>\n",
       "      <td>2.0</td>\n",
       "      <td>2.0</td>\n",
       "      <td>2.0</td>\n",
       "      <td>1.0</td>\n",
       "      <td>2.0</td>\n",
       "      <td>2.0</td>\n",
       "      <td>1</td>\n",
       "    </tr>\n",
       "    <tr>\n",
       "      <th>6</th>\n",
       "      <td>4.0</td>\n",
       "      <td>2</td>\n",
       "      <td>1</td>\n",
       "      <td>2.0</td>\n",
       "      <td>24.0</td>\n",
       "      <td>2.0</td>\n",
       "      <td>2.0</td>\n",
       "      <td>2.0</td>\n",
       "      <td>2.0</td>\n",
       "      <td>2.0</td>\n",
       "      <td>2.0</td>\n",
       "      <td>1.0</td>\n",
       "      <td>2.0</td>\n",
       "      <td>2.0</td>\n",
       "      <td>2.0</td>\n",
       "      <td>2.0</td>\n",
       "      <td>1</td>\n",
       "    </tr>\n",
       "    <tr>\n",
       "      <th>7</th>\n",
       "      <td>4.0</td>\n",
       "      <td>2</td>\n",
       "      <td>2</td>\n",
       "      <td>2.0</td>\n",
       "      <td>75.0</td>\n",
       "      <td>2.0</td>\n",
       "      <td>2.0</td>\n",
       "      <td>2.0</td>\n",
       "      <td>2.0</td>\n",
       "      <td>2.0</td>\n",
       "      <td>2.0</td>\n",
       "      <td>2.0</td>\n",
       "      <td>2.0</td>\n",
       "      <td>2.0</td>\n",
       "      <td>2.0</td>\n",
       "      <td>2.0</td>\n",
       "      <td>1</td>\n",
       "    </tr>\n",
       "    <tr>\n",
       "      <th>8</th>\n",
       "      <td>12.0</td>\n",
       "      <td>2</td>\n",
       "      <td>1</td>\n",
       "      <td>2.0</td>\n",
       "      <td>38.0</td>\n",
       "      <td>2.0</td>\n",
       "      <td>2.0</td>\n",
       "      <td>2.0</td>\n",
       "      <td>2.0</td>\n",
       "      <td>2.0</td>\n",
       "      <td>2.0</td>\n",
       "      <td>2.0</td>\n",
       "      <td>2.0</td>\n",
       "      <td>2.0</td>\n",
       "      <td>2.0</td>\n",
       "      <td>2.0</td>\n",
       "      <td>1</td>\n",
       "    </tr>\n",
       "    <tr>\n",
       "      <th>9</th>\n",
       "      <td>4.0</td>\n",
       "      <td>1</td>\n",
       "      <td>2</td>\n",
       "      <td>1.0</td>\n",
       "      <td>59.0</td>\n",
       "      <td>2.0</td>\n",
       "      <td>2.0</td>\n",
       "      <td>2.0</td>\n",
       "      <td>2.0</td>\n",
       "      <td>2.0</td>\n",
       "      <td>2.0</td>\n",
       "      <td>2.0</td>\n",
       "      <td>2.0</td>\n",
       "      <td>2.0</td>\n",
       "      <td>2.0</td>\n",
       "      <td>2.0</td>\n",
       "      <td>1</td>\n",
       "    </tr>\n",
       "  </tbody>\n",
       "</table>\n",
       "</div>"
      ],
      "text/plain": [
       "   SECTOR  SEXO  TIPO_PACIENTE  NEUMONIA  EDAD  EMBARAZO  DIABETES  EPOC  \\\n",
       "0    12.0     2              1       2.0  73.0       2.0       2.0   2.0   \n",
       "1    12.0     2              2       1.0  59.0       2.0       1.0   2.0   \n",
       "2     4.0     2              1       2.0  42.0       2.0       2.0   2.0   \n",
       "3     9.0     2              2       1.0  70.0       2.0       2.0   2.0   \n",
       "4    12.0     2              2       1.0  62.0       2.0       2.0   2.0   \n",
       "5     6.0     2              1       2.0  29.0       2.0       2.0   2.0   \n",
       "6     4.0     2              1       2.0  24.0       2.0       2.0   2.0   \n",
       "7     4.0     2              2       2.0  75.0       2.0       2.0   2.0   \n",
       "8    12.0     2              1       2.0  38.0       2.0       2.0   2.0   \n",
       "9     4.0     1              2       1.0  59.0       2.0       2.0   2.0   \n",
       "\n",
       "   ASMA  INMUSUPR  HIPERTENSION  OTRA_COM  CARDIOVASCULAR  OBESIDAD  \\\n",
       "0   2.0       2.0           1.0       2.0             2.0       1.0   \n",
       "1   2.0       2.0           2.0       2.0             2.0       2.0   \n",
       "2   2.0       2.0           2.0       2.0             2.0       2.0   \n",
       "3   2.0       2.0           1.0       2.0             2.0       2.0   \n",
       "4   2.0       2.0           2.0       2.0             2.0       2.0   \n",
       "5   2.0       2.0           2.0       2.0             2.0       1.0   \n",
       "6   2.0       2.0           2.0       1.0             2.0       2.0   \n",
       "7   2.0       2.0           2.0       2.0             2.0       2.0   \n",
       "8   2.0       2.0           2.0       2.0             2.0       2.0   \n",
       "9   2.0       2.0           2.0       2.0             2.0       2.0   \n",
       "\n",
       "   RENAL_CRONICA  TABAQUISMO  COVID  \n",
       "0            2.0         2.0      1  \n",
       "1            2.0         2.0      1  \n",
       "2            2.0         2.0      1  \n",
       "3            2.0         2.0      1  \n",
       "4            2.0         2.0      1  \n",
       "5            2.0         2.0      1  \n",
       "6            2.0         2.0      1  \n",
       "7            2.0         2.0      1  \n",
       "8            2.0         2.0      1  \n",
       "9            2.0         2.0      1  "
      ]
     },
     "execution_count": 80,
     "metadata": {},
     "output_type": "execute_result"
    }
   ],
   "source": [
    "df_copy.head(10)"
   ]
  },
  {
   "cell_type": "code",
   "execution_count": 50,
   "metadata": {},
   "outputs": [],
   "source": [
    "df_copy =df_copy.drop([\"DEF\",\"ORIGEN\"], axis = 1)"
   ]
  },
  {
   "cell_type": "markdown",
   "metadata": {},
   "source": [
    "##### Dividir las variables en dependientes e independientes "
   ]
  },
  {
   "cell_type": "code",
   "execution_count": 51,
   "metadata": {},
   "outputs": [],
   "source": [
    "Y = df_copy.iloc[:,-1].values\n",
    "X = df_copy.iloc[:,0:16].values"
   ]
  },
  {
   "cell_type": "code",
   "execution_count": 52,
   "metadata": {},
   "outputs": [
    {
     "data": {
      "text/html": [
       "<div>\n",
       "<style scoped>\n",
       "    .dataframe tbody tr th:only-of-type {\n",
       "        vertical-align: middle;\n",
       "    }\n",
       "\n",
       "    .dataframe tbody tr th {\n",
       "        vertical-align: top;\n",
       "    }\n",
       "\n",
       "    .dataframe thead th {\n",
       "        text-align: right;\n",
       "    }\n",
       "</style>\n",
       "<table border=\"1\" class=\"dataframe\">\n",
       "  <thead>\n",
       "    <tr style=\"text-align: right;\">\n",
       "      <th></th>\n",
       "      <th>0</th>\n",
       "      <th>1</th>\n",
       "      <th>2</th>\n",
       "      <th>3</th>\n",
       "      <th>4</th>\n",
       "      <th>5</th>\n",
       "      <th>6</th>\n",
       "      <th>7</th>\n",
       "      <th>8</th>\n",
       "      <th>9</th>\n",
       "      <th>10</th>\n",
       "      <th>11</th>\n",
       "      <th>12</th>\n",
       "      <th>13</th>\n",
       "      <th>14</th>\n",
       "      <th>15</th>\n",
       "    </tr>\n",
       "  </thead>\n",
       "  <tbody>\n",
       "    <tr>\n",
       "      <th>0</th>\n",
       "      <td>12.0</td>\n",
       "      <td>2.0</td>\n",
       "      <td>1.0</td>\n",
       "      <td>2.0</td>\n",
       "      <td>73.0</td>\n",
       "      <td>2.0</td>\n",
       "      <td>2.0</td>\n",
       "      <td>2.0</td>\n",
       "      <td>2.0</td>\n",
       "      <td>2.0</td>\n",
       "      <td>1.0</td>\n",
       "      <td>2.0</td>\n",
       "      <td>2.0</td>\n",
       "      <td>1.0</td>\n",
       "      <td>2.0</td>\n",
       "      <td>2.0</td>\n",
       "    </tr>\n",
       "    <tr>\n",
       "      <th>1</th>\n",
       "      <td>12.0</td>\n",
       "      <td>2.0</td>\n",
       "      <td>2.0</td>\n",
       "      <td>1.0</td>\n",
       "      <td>59.0</td>\n",
       "      <td>2.0</td>\n",
       "      <td>1.0</td>\n",
       "      <td>2.0</td>\n",
       "      <td>2.0</td>\n",
       "      <td>2.0</td>\n",
       "      <td>2.0</td>\n",
       "      <td>2.0</td>\n",
       "      <td>2.0</td>\n",
       "      <td>2.0</td>\n",
       "      <td>2.0</td>\n",
       "      <td>2.0</td>\n",
       "    </tr>\n",
       "    <tr>\n",
       "      <th>2</th>\n",
       "      <td>4.0</td>\n",
       "      <td>2.0</td>\n",
       "      <td>1.0</td>\n",
       "      <td>2.0</td>\n",
       "      <td>42.0</td>\n",
       "      <td>2.0</td>\n",
       "      <td>2.0</td>\n",
       "      <td>2.0</td>\n",
       "      <td>2.0</td>\n",
       "      <td>2.0</td>\n",
       "      <td>2.0</td>\n",
       "      <td>2.0</td>\n",
       "      <td>2.0</td>\n",
       "      <td>2.0</td>\n",
       "      <td>2.0</td>\n",
       "      <td>2.0</td>\n",
       "    </tr>\n",
       "  </tbody>\n",
       "</table>\n",
       "</div>"
      ],
      "text/plain": [
       "      0    1    2    3     4    5    6    7    8    9   10   11   12   13  \\\n",
       "0  12.0  2.0  1.0  2.0  73.0  2.0  2.0  2.0  2.0  2.0  1.0  2.0  2.0  1.0   \n",
       "1  12.0  2.0  2.0  1.0  59.0  2.0  1.0  2.0  2.0  2.0  2.0  2.0  2.0  2.0   \n",
       "2   4.0  2.0  1.0  2.0  42.0  2.0  2.0  2.0  2.0  2.0  2.0  2.0  2.0  2.0   \n",
       "\n",
       "    14   15  \n",
       "0  2.0  2.0  \n",
       "1  2.0  2.0  \n",
       "2  2.0  2.0  "
      ]
     },
     "execution_count": 52,
     "metadata": {},
     "output_type": "execute_result"
    }
   ],
   "source": [
    "pd.DataFrame(X).head(3)"
   ]
  },
  {
   "cell_type": "markdown",
   "metadata": {},
   "source": [
    "### Generar variables dummys "
   ]
  },
  {
   "cell_type": "code",
   "execution_count": 53,
   "metadata": {},
   "outputs": [],
   "source": [
    "from sklearn import preprocessing\n",
    "from sklearn.preprocessing import OneHotEncoder\n",
    "from sklearn.compose import ColumnTransformer"
   ]
  },
  {
   "cell_type": "code",
   "execution_count": 54,
   "metadata": {},
   "outputs": [],
   "source": [
    "columnTransformer = ColumnTransformer(\n",
    "        transformers = [\n",
    "            ('Dummies', OneHotEncoder(drop = 'first'), [0,1,2,3,5,6,7,8,9,10,11,12,13,14,15])], \n",
    "        remainder = 'passthrough')\n",
    "\n",
    "X = columnTransformer.fit_transform(X)"
   ]
  },
  {
   "cell_type": "code",
   "execution_count": 55,
   "metadata": {},
   "outputs": [
    {
     "data": {
      "text/html": [
       "<div>\n",
       "<style scoped>\n",
       "    .dataframe tbody tr th:only-of-type {\n",
       "        vertical-align: middle;\n",
       "    }\n",
       "\n",
       "    .dataframe tbody tr th {\n",
       "        vertical-align: top;\n",
       "    }\n",
       "\n",
       "    .dataframe thead th {\n",
       "        text-align: right;\n",
       "    }\n",
       "</style>\n",
       "<table border=\"1\" class=\"dataframe\">\n",
       "  <thead>\n",
       "    <tr style=\"text-align: right;\">\n",
       "      <th></th>\n",
       "      <th>0</th>\n",
       "      <th>1</th>\n",
       "      <th>2</th>\n",
       "      <th>3</th>\n",
       "      <th>4</th>\n",
       "      <th>5</th>\n",
       "      <th>6</th>\n",
       "      <th>7</th>\n",
       "      <th>8</th>\n",
       "      <th>9</th>\n",
       "      <th>...</th>\n",
       "      <th>17</th>\n",
       "      <th>18</th>\n",
       "      <th>19</th>\n",
       "      <th>20</th>\n",
       "      <th>21</th>\n",
       "      <th>22</th>\n",
       "      <th>23</th>\n",
       "      <th>24</th>\n",
       "      <th>25</th>\n",
       "      <th>26</th>\n",
       "    </tr>\n",
       "  </thead>\n",
       "  <tbody>\n",
       "    <tr>\n",
       "      <th>0</th>\n",
       "      <td>0.0</td>\n",
       "      <td>0.0</td>\n",
       "      <td>0.0</td>\n",
       "      <td>0.0</td>\n",
       "      <td>0.0</td>\n",
       "      <td>0.0</td>\n",
       "      <td>0.0</td>\n",
       "      <td>0.0</td>\n",
       "      <td>0.0</td>\n",
       "      <td>0.0</td>\n",
       "      <td>...</td>\n",
       "      <td>1.0</td>\n",
       "      <td>1.0</td>\n",
       "      <td>1.0</td>\n",
       "      <td>0.0</td>\n",
       "      <td>1.0</td>\n",
       "      <td>1.0</td>\n",
       "      <td>0.0</td>\n",
       "      <td>1.0</td>\n",
       "      <td>1.0</td>\n",
       "      <td>73.0</td>\n",
       "    </tr>\n",
       "    <tr>\n",
       "      <th>1</th>\n",
       "      <td>0.0</td>\n",
       "      <td>0.0</td>\n",
       "      <td>0.0</td>\n",
       "      <td>0.0</td>\n",
       "      <td>0.0</td>\n",
       "      <td>0.0</td>\n",
       "      <td>0.0</td>\n",
       "      <td>0.0</td>\n",
       "      <td>0.0</td>\n",
       "      <td>0.0</td>\n",
       "      <td>...</td>\n",
       "      <td>1.0</td>\n",
       "      <td>1.0</td>\n",
       "      <td>1.0</td>\n",
       "      <td>1.0</td>\n",
       "      <td>1.0</td>\n",
       "      <td>1.0</td>\n",
       "      <td>1.0</td>\n",
       "      <td>1.0</td>\n",
       "      <td>1.0</td>\n",
       "      <td>59.0</td>\n",
       "    </tr>\n",
       "  </tbody>\n",
       "</table>\n",
       "<p>2 rows × 27 columns</p>\n",
       "</div>"
      ],
      "text/plain": [
       "    0    1    2    3    4    5    6    7    8    9   ...   17   18   19   20  \\\n",
       "0  0.0  0.0  0.0  0.0  0.0  0.0  0.0  0.0  0.0  0.0  ...  1.0  1.0  1.0  0.0   \n",
       "1  0.0  0.0  0.0  0.0  0.0  0.0  0.0  0.0  0.0  0.0  ...  1.0  1.0  1.0  1.0   \n",
       "\n",
       "    21   22   23   24   25    26  \n",
       "0  1.0  1.0  0.0  1.0  1.0  73.0  \n",
       "1  1.0  1.0  1.0  1.0  1.0  59.0  \n",
       "\n",
       "[2 rows x 27 columns]"
      ]
     },
     "execution_count": 55,
     "metadata": {},
     "output_type": "execute_result"
    }
   ],
   "source": [
    "pd.DataFrame(X).head(2)"
   ]
  },
  {
   "cell_type": "markdown",
   "metadata": {},
   "source": [
    "### Datos entrenamiento y test"
   ]
  },
  {
   "cell_type": "code",
   "execution_count": 56,
   "metadata": {},
   "outputs": [],
   "source": [
    "from sklearn.model_selection import train_test_split"
   ]
  },
  {
   "cell_type": "code",
   "execution_count": 57,
   "metadata": {},
   "outputs": [],
   "source": [
    "X_train,X_test, y_train, y_test = train_test_split(X,Y, random_state = 0, test_size = .20)"
   ]
  },
  {
   "cell_type": "markdown",
   "metadata": {},
   "source": [
    "### Escalar las variables"
   ]
  },
  {
   "cell_type": "code",
   "execution_count": 58,
   "metadata": {},
   "outputs": [],
   "source": [
    "from sklearn.preprocessing import StandardScaler"
   ]
  },
  {
   "cell_type": "code",
   "execution_count": 59,
   "metadata": {},
   "outputs": [],
   "source": [
    "sc_X = StandardScaler()\n",
    "X_train = sc_X.fit_transform(X_train)\n",
    "X_test = sc_X.transform(X_test)"
   ]
  },
  {
   "cell_type": "markdown",
   "metadata": {},
   "source": [
    "### Creacion del modelo "
   ]
  },
  {
   "cell_type": "markdown",
   "metadata": {},
   "source": [
    "#### Regresion Logistica"
   ]
  },
  {
   "cell_type": "code",
   "execution_count": 60,
   "metadata": {},
   "outputs": [],
   "source": [
    "from sklearn.linear_model import LogisticRegression"
   ]
  },
  {
   "cell_type": "code",
   "execution_count": 61,
   "metadata": {},
   "outputs": [
    {
     "data": {
      "text/plain": [
       "LogisticRegression(random_state=0)"
      ]
     },
     "execution_count": 61,
     "metadata": {},
     "output_type": "execute_result"
    }
   ],
   "source": [
    "classifier = LogisticRegression(random_state = 0)\n",
    "classifier.fit(X_train,y_train)"
   ]
  },
  {
   "cell_type": "code",
   "execution_count": 62,
   "metadata": {},
   "outputs": [],
   "source": [
    "y_pred = classifier.predict(X_test)"
   ]
  },
  {
   "cell_type": "code",
   "execution_count": 63,
   "metadata": {},
   "outputs": [],
   "source": [
    "from sklearn.metrics import confusion_matrix as cm"
   ]
  },
  {
   "cell_type": "code",
   "execution_count": 64,
   "metadata": {},
   "outputs": [],
   "source": [
    "Cm = cm(y_test,y_pred)"
   ]
  },
  {
   "cell_type": "code",
   "execution_count": 65,
   "metadata": {},
   "outputs": [
    {
     "data": {
      "text/html": [
       "<div>\n",
       "<style scoped>\n",
       "    .dataframe tbody tr th:only-of-type {\n",
       "        vertical-align: middle;\n",
       "    }\n",
       "\n",
       "    .dataframe tbody tr th {\n",
       "        vertical-align: top;\n",
       "    }\n",
       "\n",
       "    .dataframe thead th {\n",
       "        text-align: right;\n",
       "    }\n",
       "</style>\n",
       "<table border=\"1\" class=\"dataframe\">\n",
       "  <thead>\n",
       "    <tr style=\"text-align: right;\">\n",
       "      <th></th>\n",
       "      <th>0</th>\n",
       "      <th>1</th>\n",
       "    </tr>\n",
       "  </thead>\n",
       "  <tbody>\n",
       "    <tr>\n",
       "      <th>0</th>\n",
       "      <td>385052</td>\n",
       "      <td>68162</td>\n",
       "    </tr>\n",
       "    <tr>\n",
       "      <th>1</th>\n",
       "      <td>241192</td>\n",
       "      <td>115901</td>\n",
       "    </tr>\n",
       "  </tbody>\n",
       "</table>\n",
       "</div>"
      ],
      "text/plain": [
       "        0       1\n",
       "0  385052   68162\n",
       "1  241192  115901"
      ]
     },
     "execution_count": 65,
     "metadata": {},
     "output_type": "execute_result"
    }
   ],
   "source": [
    "pd.DataFrame(Cm)"
   ]
  },
  {
   "cell_type": "code",
   "execution_count": 67,
   "metadata": {},
   "outputs": [
    {
     "data": {
      "text/plain": [
       "0.6182261784730972"
      ]
     },
     "execution_count": 67,
     "metadata": {},
     "output_type": "execute_result"
    }
   ],
   "source": [
    "(385052+115901)/(385052+68162+241192+115901)"
   ]
  },
  {
   "cell_type": "markdown",
   "metadata": {},
   "source": [
    "##### Clasificador XGBoost"
   ]
  },
  {
   "cell_type": "code",
   "execution_count": 68,
   "metadata": {},
   "outputs": [],
   "source": [
    "from xgboost import XGBClassifier"
   ]
  },
  {
   "cell_type": "code",
   "execution_count": 69,
   "metadata": {},
   "outputs": [
    {
     "data": {
      "text/plain": [
       "XGBClassifier(base_score=0.5, booster='gbtree', colsample_bylevel=1,\n",
       "              colsample_bynode=1, colsample_bytree=1, gamma=0, gpu_id=-1,\n",
       "              importance_type='gain', interaction_constraints='',\n",
       "              learning_rate=0.300000012, max_delta_step=0, max_depth=6,\n",
       "              min_child_weight=1, missing=nan, monotone_constraints='()',\n",
       "              n_estimators=100, n_jobs=0, num_parallel_tree=1, random_state=0,\n",
       "              reg_alpha=0, reg_lambda=1, scale_pos_weight=1, subsample=1,\n",
       "              tree_method='exact', validate_parameters=1, verbosity=None)"
      ]
     },
     "execution_count": 69,
     "metadata": {},
     "output_type": "execute_result"
    }
   ],
   "source": [
    "classifier = XGBClassifier()\n",
    "classifier.fit(X_train,y_train)"
   ]
  },
  {
   "cell_type": "code",
   "execution_count": 70,
   "metadata": {},
   "outputs": [],
   "source": [
    "y_pred = classifier.predict(X_test)"
   ]
  },
  {
   "cell_type": "code",
   "execution_count": 71,
   "metadata": {},
   "outputs": [],
   "source": [
    "Cm = cm(y_test,y_pred)"
   ]
  },
  {
   "cell_type": "code",
   "execution_count": 72,
   "metadata": {},
   "outputs": [
    {
     "data": {
      "text/html": [
       "<div>\n",
       "<style scoped>\n",
       "    .dataframe tbody tr th:only-of-type {\n",
       "        vertical-align: middle;\n",
       "    }\n",
       "\n",
       "    .dataframe tbody tr th {\n",
       "        vertical-align: top;\n",
       "    }\n",
       "\n",
       "    .dataframe thead th {\n",
       "        text-align: right;\n",
       "    }\n",
       "</style>\n",
       "<table border=\"1\" class=\"dataframe\">\n",
       "  <thead>\n",
       "    <tr style=\"text-align: right;\">\n",
       "      <th></th>\n",
       "      <th>0</th>\n",
       "      <th>1</th>\n",
       "    </tr>\n",
       "  </thead>\n",
       "  <tbody>\n",
       "    <tr>\n",
       "      <th>0</th>\n",
       "      <td>386270</td>\n",
       "      <td>66944</td>\n",
       "    </tr>\n",
       "    <tr>\n",
       "      <th>1</th>\n",
       "      <td>239167</td>\n",
       "      <td>117926</td>\n",
       "    </tr>\n",
       "  </tbody>\n",
       "</table>\n",
       "</div>"
      ],
      "text/plain": [
       "        0       1\n",
       "0  386270   66944\n",
       "1  239167  117926"
      ]
     },
     "execution_count": 72,
     "metadata": {},
     "output_type": "execute_result"
    }
   ],
   "source": [
    "cm = cm(y_test,y_pred)\n",
    "pd.DataFrame(cm)"
   ]
  },
  {
   "cell_type": "code",
   "execution_count": 73,
   "metadata": {},
   "outputs": [],
   "source": [
    "from sklearn.model_selection import cross_val_score"
   ]
  },
  {
   "cell_type": "code",
   "execution_count": 74,
   "metadata": {},
   "outputs": [
    {
     "data": {
      "text/plain": [
       "0.6227595288377474"
      ]
     },
     "execution_count": 74,
     "metadata": {},
     "output_type": "execute_result"
    }
   ],
   "source": [
    "accuracies = cross_val_score(estimator = classifier, \n",
    "                             X = X_train, \n",
    "                             y = y_train, \n",
    "                             cv = 10)\n",
    "accuracies.mean()"
   ]
  }
 ],
 "metadata": {
  "kernelspec": {
   "display_name": "Python 3",
   "language": "python",
   "name": "python3"
  },
  "language_info": {
   "codemirror_mode": {
    "name": "ipython",
    "version": 3
   },
   "file_extension": ".py",
   "mimetype": "text/x-python",
   "name": "python",
   "nbconvert_exporter": "python",
   "pygments_lexer": "ipython3",
   "version": "3.8.5"
  }
 },
 "nbformat": 4,
 "nbformat_minor": 4
}
